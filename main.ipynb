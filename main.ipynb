{
 "cells": [
  {
   "cell_type": "code",
   "execution_count": 26,
   "id": "f8d3a5ba-9266-45c3-82a8-28b13645f64f",
   "metadata": {},
   "outputs": [],
   "source": [
    "# import neccessary tools\n",
    "\n",
    "import numpy as np\n",
    "import pandas as pd\n",
    "import matplotlib.pyplot as plt\n",
    "import alpaca_trade_api as tradeapi\n",
    "from MCForecastTools import MCSimulation\n",
    "import os\n",
    "import requests\n",
    "\n",
    "%matplotlib inline"
   ]
  },
  {
   "cell_type": "markdown",
   "id": "2e61a6ae-12b7-4df6-aec0-01d426f90cb1",
   "metadata": {},
   "source": []
  },
  {
   "cell_type": "code",
   "execution_count": 27,
   "id": "182e6745-93b4-4af8-9287-c041a50a1ce0",
   "metadata": {},
   "outputs": [
    {
     "data": {
      "text/plain": [
       "True"
      ]
     },
     "execution_count": 27,
     "metadata": {},
     "output_type": "execute_result"
    }
   ],
   "source": [
    "    # import envs\n",
    "    \n",
    "from dotenv import load_dotenv\n",
    "load_dotenv()"
   ]
  },
  {
   "cell_type": "code",
   "execution_count": 28,
   "id": "bfa9857f-161f-4cf1-9b4f-acfa209a6107",
   "metadata": {},
   "outputs": [],
   "source": [
    "    # get alpaca keys\n",
    "\n",
    "alpaca_api_key = os.getenv(\"ALPACA_API_KEY\")\n",
    "alpaca_secret_key = os.getenv(\"ALPACA_SECRET_KEY\")"
   ]
  },
  {
   "cell_type": "code",
   "execution_count": 29,
   "id": "de8a3e4b-6bb2-4bb1-a6a0-82ced673e271",
   "metadata": {},
   "outputs": [],
   "source": [
    "    # creating alpaca api object\n",
    "    \n",
    "api = tradeapi.REST(\n",
    "    alpaca_api_key,\n",
    "    alpaca_secret_key,\n",
    "    api_version = \"v2\")"
   ]
  },
  {
   "cell_type": "code",
   "execution_count": 30,
   "id": "f4c4cb42-910a-4e8f-84cb-0f324981a99a",
   "metadata": {},
   "outputs": [],
   "source": [
    "    # set api keys\n",
    "\n",
    "api_key = os.getenv(\"ALPACA_API_KEY\", \"ALPACA_SECRET_KEY\")"
   ]
  },
  {
   "cell_type": "markdown",
   "id": "d4a467e1-f6b5-425b-89aa-3b78fa66df0c",
   "metadata": {},
   "source": [
    "## Collect Crypto Prices "
   ]
  },
  {
   "cell_type": "code",
   "execution_count": 31,
   "id": "d5b9216c-cfa3-470e-a7e0-d5218e399f72",
   "metadata": {},
   "outputs": [],
   "source": [
    "# creating variables for crypto currencies\n",
    "\n",
    "my_btc = 1.2\n",
    "my_eth = 5.3"
   ]
  },
  {
   "cell_type": "code",
   "execution_count": 32,
   "id": "6b544bfc-30cc-4e2c-985a-ae6bb6a514a7",
   "metadata": {},
   "outputs": [],
   "source": [
    "    # get url for btc\n",
    "\n",
    "btc_url = \"https://api.alternative.me/v2/ticker/Bitcoin/?convert=CAD\""
   ]
  },
  {
   "cell_type": "code",
   "execution_count": 33,
   "id": "6690bd60-1088-4593-901d-3b4012075939",
   "metadata": {},
   "outputs": [],
   "source": [
    "    # request info from url for json\n",
    "\n",
    "btc_response = requests.get(btc_url).json()"
   ]
  },
  {
   "cell_type": "code",
   "execution_count": 34,
   "id": "b1e8234c-df0d-499c-8af2-251089421a68",
   "metadata": {},
   "outputs": [
    {
     "data": {
      "text/plain": [
       "48944.7901"
      ]
     },
     "execution_count": 34,
     "metadata": {},
     "output_type": "execute_result"
    }
   ],
   "source": [
    "    # get the price in CAD from json file\n",
    "\n",
    "btc_response['data']['1']['quotes']['CAD']['price']"
   ]
  },
  {
   "cell_type": "code",
   "execution_count": 35,
   "id": "cb2de19d-39fa-430e-b6b2-698064e4432f",
   "metadata": {},
   "outputs": [],
   "source": [
    "    # get url for eth\n",
    "    \n",
    "eth_url = \"https://api.alternative.me/v2/ticker/Ethereum/?convert=CAD\""
   ]
  },
  {
   "cell_type": "code",
   "execution_count": 36,
   "id": "7b5a4389-5a5b-4f36-b2fc-e8825d7453b4",
   "metadata": {},
   "outputs": [],
   "source": [
    "    # request info from url for json file\n",
    "\n",
    "eth_response = requests.get(eth_url).json()"
   ]
  },
  {
   "cell_type": "code",
   "execution_count": 37,
   "id": "922a94e6-e52b-4337-9685-088a0d0d736b",
   "metadata": {},
   "outputs": [
    {
     "data": {
      "text/plain": [
       "3150.926355"
      ]
     },
     "execution_count": 37,
     "metadata": {},
     "output_type": "execute_result"
    }
   ],
   "source": [
    "    #  get the price in CAD from json file\n",
    "    \n",
    "eth_response[\"data\"][\"1027\"][\"quotes\"][\"CAD\"][\"price\"]"
   ]
  },
  {
   "cell_type": "markdown",
   "id": "931a5ad1-fbd7-4f88-a2d8-7a46e134c883",
   "metadata": {},
   "source": [
    "## Investment Data SPY & AGG"
   ]
  },
  {
   "cell_type": "code",
   "execution_count": 38,
   "id": "26702e90-d67a-4d53-b19e-5200ee3478f3",
   "metadata": {},
   "outputs": [],
   "source": [
    "# create variables for SPY stocks and AGG bonds\n",
    "\n",
    "my_agg = 200\n",
    "my_spy = 50"
   ]
  },
  {
   "cell_type": "code",
   "execution_count": 39,
   "id": "40e0ae25-1245-4280-9f32-84a0d2b1dcd4",
   "metadata": {},
   "outputs": [
    {
     "data": {
      "text/html": [
       "<div>\n",
       "<style scoped>\n",
       "    .dataframe tbody tr th:only-of-type {\n",
       "        vertical-align: middle;\n",
       "    }\n",
       "\n",
       "    .dataframe tbody tr th {\n",
       "        vertical-align: top;\n",
       "    }\n",
       "\n",
       "    .dataframe thead tr th {\n",
       "        text-align: left;\n",
       "    }\n",
       "\n",
       "    .dataframe thead tr:last-of-type th {\n",
       "        text-align: right;\n",
       "    }\n",
       "</style>\n",
       "<table border=\"1\" class=\"dataframe\">\n",
       "  <thead>\n",
       "    <tr>\n",
       "      <th></th>\n",
       "      <th colspan=\"5\" halign=\"left\">AGG</th>\n",
       "      <th colspan=\"5\" halign=\"left\">SPY</th>\n",
       "    </tr>\n",
       "    <tr>\n",
       "      <th></th>\n",
       "      <th>open</th>\n",
       "      <th>high</th>\n",
       "      <th>low</th>\n",
       "      <th>close</th>\n",
       "      <th>volume</th>\n",
       "      <th>open</th>\n",
       "      <th>high</th>\n",
       "      <th>low</th>\n",
       "      <th>close</th>\n",
       "      <th>volume</th>\n",
       "    </tr>\n",
       "    <tr>\n",
       "      <th>time</th>\n",
       "      <th></th>\n",
       "      <th></th>\n",
       "      <th></th>\n",
       "      <th></th>\n",
       "      <th></th>\n",
       "      <th></th>\n",
       "      <th></th>\n",
       "      <th></th>\n",
       "      <th></th>\n",
       "      <th></th>\n",
       "    </tr>\n",
       "  </thead>\n",
       "  <tbody>\n",
       "    <tr>\n",
       "      <th>2021-06-03 00:00:00-04:00</th>\n",
       "      <td>114.31</td>\n",
       "      <td>114.46</td>\n",
       "      <td>114.21</td>\n",
       "      <td>114.210</td>\n",
       "      <td>3270096</td>\n",
       "      <td>417.87</td>\n",
       "      <td>419.99</td>\n",
       "      <td>416.2800</td>\n",
       "      <td>418.86</td>\n",
       "      <td>51582905</td>\n",
       "    </tr>\n",
       "    <tr>\n",
       "      <th>2021-06-04 00:00:00-04:00</th>\n",
       "      <td>114.39</td>\n",
       "      <td>114.67</td>\n",
       "      <td>114.22</td>\n",
       "      <td>114.665</td>\n",
       "      <td>4334878</td>\n",
       "      <td>420.75</td>\n",
       "      <td>422.92</td>\n",
       "      <td>418.8422</td>\n",
       "      <td>422.57</td>\n",
       "      <td>45129316</td>\n",
       "    </tr>\n",
       "    <tr>\n",
       "      <th>2021-06-07 00:00:00-04:00</th>\n",
       "      <td>113.97</td>\n",
       "      <td>114.64</td>\n",
       "      <td>113.97</td>\n",
       "      <td>114.595</td>\n",
       "      <td>3639918</td>\n",
       "      <td>422.59</td>\n",
       "      <td>422.78</td>\n",
       "      <td>421.1900</td>\n",
       "      <td>422.23</td>\n",
       "      <td>41442963</td>\n",
       "    </tr>\n",
       "    <tr>\n",
       "      <th>2021-06-08 00:00:00-04:00</th>\n",
       "      <td>114.84</td>\n",
       "      <td>114.87</td>\n",
       "      <td>114.78</td>\n",
       "      <td>114.820</td>\n",
       "      <td>3951702</td>\n",
       "      <td>423.11</td>\n",
       "      <td>423.21</td>\n",
       "      <td>420.3200</td>\n",
       "      <td>422.27</td>\n",
       "      <td>40131441</td>\n",
       "    </tr>\n",
       "    <tr>\n",
       "      <th>2021-06-09 00:00:00-04:00</th>\n",
       "      <td>115.43</td>\n",
       "      <td>115.43</td>\n",
       "      <td>114.97</td>\n",
       "      <td>115.050</td>\n",
       "      <td>3418086</td>\n",
       "      <td>423.18</td>\n",
       "      <td>423.26</td>\n",
       "      <td>421.4100</td>\n",
       "      <td>421.62</td>\n",
       "      <td>38368598</td>\n",
       "    </tr>\n",
       "  </tbody>\n",
       "</table>\n",
       "</div>"
      ],
      "text/plain": [
       "                              AGG                                       SPY  \\\n",
       "                             open    high     low    close   volume    open   \n",
       "time                                                                          \n",
       "2021-06-03 00:00:00-04:00  114.31  114.46  114.21  114.210  3270096  417.87   \n",
       "2021-06-04 00:00:00-04:00  114.39  114.67  114.22  114.665  4334878  420.75   \n",
       "2021-06-07 00:00:00-04:00  113.97  114.64  113.97  114.595  3639918  422.59   \n",
       "2021-06-08 00:00:00-04:00  114.84  114.87  114.78  114.820  3951702  423.11   \n",
       "2021-06-09 00:00:00-04:00  115.43  115.43  114.97  115.050  3418086  423.18   \n",
       "\n",
       "                                                               \n",
       "                             high       low   close    volume  \n",
       "time                                                           \n",
       "2021-06-03 00:00:00-04:00  419.99  416.2800  418.86  51582905  \n",
       "2021-06-04 00:00:00-04:00  422.92  418.8422  422.57  45129316  \n",
       "2021-06-07 00:00:00-04:00  422.78  421.1900  422.23  41442963  \n",
       "2021-06-08 00:00:00-04:00  423.21  420.3200  422.27  40131441  \n",
       "2021-06-09 00:00:00-04:00  423.26  421.4100  421.62  38368598  "
      ]
     },
     "execution_count": 39,
     "metadata": {},
     "output_type": "execute_result"
    }
   ],
   "source": [
    "# Set timeframe to '1D'\n",
    "\n",
    "timeframe = \"1D\"\n",
    "\n",
    "# Set start and end datetimes between now and 5 years ago.\n",
    "\n",
    "start_date = pd.Timestamp(\"2016-06-09\", tz=\"America/New_York\").isoformat()\n",
    "end_date = pd.Timestamp(\"2021-06-09\", tz=\"America/New_York\").isoformat()\n",
    "\n",
    "# Set the ticker information\n",
    "\n",
    "tickers = [\"AGG\", \"SPY\"]\n",
    "\n",
    "# Get 5 year's worth of historical price data\n",
    "\n",
    "investment_data_ticker = api.get_barset(\n",
    "    tickers,\n",
    "    timeframe,\n",
    "    start=start_date,\n",
    "    end=end_date,\n",
    "    limit = 1000\n",
    ").df\n",
    "\n",
    "# Display sample data\n",
    "\n",
    "investment_data_ticker.tail()"
   ]
  },
  {
   "cell_type": "code",
   "execution_count": 40,
   "id": "cb51b483-f281-41ef-9708-537ef6ae2c3a",
   "metadata": {},
   "outputs": [
    {
     "data": {
      "text/html": [
       "<div>\n",
       "<style scoped>\n",
       "    .dataframe tbody tr th:only-of-type {\n",
       "        vertical-align: middle;\n",
       "    }\n",
       "\n",
       "    .dataframe tbody tr th {\n",
       "        vertical-align: top;\n",
       "    }\n",
       "\n",
       "    .dataframe thead th {\n",
       "        text-align: right;\n",
       "    }\n",
       "</style>\n",
       "<table border=\"1\" class=\"dataframe\">\n",
       "  <thead>\n",
       "    <tr style=\"text-align: right;\">\n",
       "      <th></th>\n",
       "      <th>AGG</th>\n",
       "      <th>SPY</th>\n",
       "    </tr>\n",
       "  </thead>\n",
       "  <tbody>\n",
       "    <tr>\n",
       "      <th>2017-06-20</th>\n",
       "      <td>109.975</td>\n",
       "      <td>243.04</td>\n",
       "    </tr>\n",
       "    <tr>\n",
       "      <th>2017-06-21</th>\n",
       "      <td>109.980</td>\n",
       "      <td>242.95</td>\n",
       "    </tr>\n",
       "    <tr>\n",
       "      <th>2017-06-22</th>\n",
       "      <td>110.050</td>\n",
       "      <td>242.83</td>\n",
       "    </tr>\n",
       "    <tr>\n",
       "      <th>2017-06-23</th>\n",
       "      <td>110.070</td>\n",
       "      <td>243.16</td>\n",
       "    </tr>\n",
       "    <tr>\n",
       "      <th>2017-06-26</th>\n",
       "      <td>110.160</td>\n",
       "      <td>243.27</td>\n",
       "    </tr>\n",
       "  </tbody>\n",
       "</table>\n",
       "</div>"
      ],
      "text/plain": [
       "                AGG     SPY\n",
       "2017-06-20  109.975  243.04\n",
       "2017-06-21  109.980  242.95\n",
       "2017-06-22  110.050  242.83\n",
       "2017-06-23  110.070  243.16\n",
       "2017-06-26  110.160  243.27"
      ]
     },
     "execution_count": 40,
     "metadata": {},
     "output_type": "execute_result"
    }
   ],
   "source": [
    "# Create and empty DataFrame for closing prices\n",
    "\n",
    "data_ticker= pd.DataFrame()\n",
    "\n",
    "# Fetch the closing prices for all the tickers\n",
    "\n",
    "for ticker in tickers:\n",
    "    data_ticker[ticker] = investment_data_ticker[ticker][\"close\"]\n",
    "\n",
    "# Drop the time component of the date\n",
    "\n",
    "data_ticker.index = investment_data_ticker.index.date\n",
    "\n",
    "# Display sample data\n",
    "data_ticker.head()"
   ]
  },
  {
   "cell_type": "code",
   "execution_count": 41,
   "id": "f35b615b-dff1-49fa-acf3-d8fcedeeb3a6",
   "metadata": {},
   "outputs": [],
   "source": [
    "    # calculate closing sum\n",
    "\n",
    "closing_AGG = data_ticker[\"AGG\"].sum()\n",
    "closing_SPY = data_ticker[\"SPY\"].sum()"
   ]
  },
  {
   "cell_type": "code",
   "execution_count": 42,
   "id": "d50f3f57-5438-4ca8-bbe0-d69e020fe48f",
   "metadata": {},
   "outputs": [
    {
     "data": {
      "text/plain": [
       "111381.6"
      ]
     },
     "execution_count": 42,
     "metadata": {},
     "output_type": "execute_result"
    }
   ],
   "source": [
    "    # round sum to two decinal places\n",
    "\n",
    "closing_AGG.round(2)"
   ]
  },
  {
   "cell_type": "code",
   "execution_count": 43,
   "id": "fa946d89-9b85-48f8-be1c-7f9887d17aac",
   "metadata": {},
   "outputs": [
    {
     "data": {
      "text/plain": [
       "301019.53"
      ]
     },
     "execution_count": 43,
     "metadata": {},
     "output_type": "execute_result"
    }
   ],
   "source": [
    "    # round sum to two decimal places\n",
    "\n",
    "closing_SPY.round(2)"
   ]
  },
  {
   "cell_type": "markdown",
   "id": "23a06cfd-7a52-457c-bf09-7ebf99306438",
   "metadata": {},
   "source": [
    "## Savings Health Analasys."
   ]
  },
  {
   "cell_type": "code",
   "execution_count": 44,
   "id": "03243163-501a-4bc1-89c8-48205309bab5",
   "metadata": {},
   "outputs": [],
   "source": [
    "# creating monthly income variable\n",
    "\n",
    "monthly_income = 12000"
   ]
  },
  {
   "cell_type": "code",
   "execution_count": 45,
   "id": "93cfae2a-8fe1-4513-88bc-b2ddd570550d",
   "metadata": {},
   "outputs": [
    {
     "data": {
      "text/plain": [
       "52095.716455"
      ]
     },
     "execution_count": 45,
     "metadata": {},
     "output_type": "execute_result"
    }
   ],
   "source": [
    "# calculate sum of crypto and shares\n",
    "\n",
    "crypto_sum = (btc_response['data']['1']['quotes']['CAD']['price'])+(eth_response[\"data\"][\"1027\"][\"quotes\"][\"CAD\"][\"price\"])\n",
    "crypto_sum\n"
   ]
  },
  {
   "cell_type": "code",
   "execution_count": 46,
   "id": "f2452c6e-622a-40f4-aaab-1b5a09b8311c",
   "metadata": {},
   "outputs": [
    {
     "data": {
      "text/plain": [
       "412401.13"
      ]
     },
     "execution_count": 46,
     "metadata": {},
     "output_type": "execute_result"
    }
   ],
   "source": [
    "shares_sum = (closing_AGG.round(2))+(closing_SPY.round(2))\n",
    "shares_sum"
   ]
  },
  {
   "cell_type": "code",
   "execution_count": 47,
   "id": "1e1879ea-d999-4c19-b200-243bd02fffc1",
   "metadata": {},
   "outputs": [
    {
     "data": {
      "text/html": [
       "<div>\n",
       "<style scoped>\n",
       "    .dataframe tbody tr th:only-of-type {\n",
       "        vertical-align: middle;\n",
       "    }\n",
       "\n",
       "    .dataframe tbody tr th {\n",
       "        vertical-align: top;\n",
       "    }\n",
       "\n",
       "    .dataframe thead th {\n",
       "        text-align: right;\n",
       "    }\n",
       "</style>\n",
       "<table border=\"1\" class=\"dataframe\">\n",
       "  <thead>\n",
       "    <tr style=\"text-align: right;\">\n",
       "      <th></th>\n",
       "      <th>Amount</th>\n",
       "    </tr>\n",
       "  </thead>\n",
       "  <tbody>\n",
       "    <tr>\n",
       "      <th>crypto</th>\n",
       "      <td>52095.716455</td>\n",
       "    </tr>\n",
       "    <tr>\n",
       "      <th>shares</th>\n",
       "      <td>412401.130000</td>\n",
       "    </tr>\n",
       "  </tbody>\n",
       "</table>\n",
       "</div>"
      ],
      "text/plain": [
       "               Amount\n",
       "crypto   52095.716455\n",
       "shares  412401.130000"
      ]
     },
     "execution_count": 47,
     "metadata": {},
     "output_type": "execute_result"
    }
   ],
   "source": [
    "# initialise data of lists.\n",
    "data = {\"Amount\":[crypto_sum, shares_sum]\n",
    "        }\n",
    "  \n",
    "# Creates pandas DataFrame.\n",
    "df_savings = pd.DataFrame(data, index =[\"crypto\",\n",
    "                               \"shares\"])\n",
    "  \n",
    "# print the data\n",
    "df_savings"
   ]
  },
  {
   "cell_type": "code",
   "execution_count": 48,
   "id": "fbe31ea4-993f-4537-b45d-331664e8f720",
   "metadata": {},
   "outputs": [
    {
     "data": {
      "image/png": "[encoded data removed]",
      "text/plain": [
       "<Figure size 432x288 with 1 Axes>"
      ]
     },
     "metadata": {},
     "output_type": "display_data"
    }
   ],
   "source": [
    "# plotting a pie chart\n",
    "\n",
    "import matplotlib.pyplot as plt\n",
    "import numpy as np\n",
    "\n",
    "labels = df_savings.index\n",
    "colors = [ \"green\", \"gold\"]\n",
    "plt.pie(df_savings[\"Amount\"], labels= labels, colors=colors, startangle=90, autopct='%.1f%%')\n",
    "plt.show()"
   ]
  },
  {
   "cell_type": "code",
   "execution_count": 49,
   "id": "14f7d4b4-6fb0-40ef-b0f2-be0030b6b835",
   "metadata": {},
   "outputs": [],
   "source": [
    "# create conditional statements for emergency fund\n",
    "\n",
    "emergency_fund = 36000"
   ]
  },
  {
   "cell_type": "code",
   "execution_count": 50,
   "id": "e80ff65f-5d5d-40d0-8fad-935460989a14",
   "metadata": {},
   "outputs": [
    {
     "name": "stdout",
     "output_type": "stream",
     "text": [
      " congratulations you have enough money in this fund\n"
     ]
    }
   ],
   "source": [
    "# print conditional statements\n",
    "\n",
    "crypto_savings = 48305.173345\n",
    "shares_savings = 412398.19\n",
    "\n",
    "\n",
    "if crypto_savings > emergency_fund:\n",
    "  print(\" congratulations you have enough money in this fund\")\n",
    "elif emergeycy_fund == crypto_savings:\n",
    "  print(\"congratulations you have reached your financial goals\")\n",
    "else:\n",
    "  print(\"you are almost at yor financial goal you only need\")"
   ]
  },
  {
   "cell_type": "markdown",
   "id": "bdd74684-d551-4c23-be22-c61bda05e38f",
   "metadata": {},
   "source": [
    "## Monte Carlo Simulation"
   ]
  },
  {
   "cell_type": "code",
   "execution_count": 51,
   "id": "30935ed9-a31c-47f8-a503-af68713f9291",
   "metadata": {},
   "outputs": [
    {
     "data": {
      "text/html": [
       "<div>\n",
       "<style scoped>\n",
       "    .dataframe tbody tr th:only-of-type {\n",
       "        vertical-align: middle;\n",
       "    }\n",
       "\n",
       "    .dataframe tbody tr th {\n",
       "        vertical-align: top;\n",
       "    }\n",
       "\n",
       "    .dataframe thead tr th {\n",
       "        text-align: left;\n",
       "    }\n",
       "\n",
       "    .dataframe thead tr:last-of-type th {\n",
       "        text-align: right;\n",
       "    }\n",
       "</style>\n",
       "<table border=\"1\" class=\"dataframe\">\n",
       "  <thead>\n",
       "    <tr>\n",
       "      <th></th>\n",
       "      <th colspan=\"6\" halign=\"left\">AGG</th>\n",
       "      <th colspan=\"6\" halign=\"left\">SPY</th>\n",
       "    </tr>\n",
       "    <tr>\n",
       "      <th></th>\n",
       "      <th>open</th>\n",
       "      <th>high</th>\n",
       "      <th>low</th>\n",
       "      <th>close</th>\n",
       "      <th>volume</th>\n",
       "      <th>daily_return</th>\n",
       "      <th>open</th>\n",
       "      <th>high</th>\n",
       "      <th>low</th>\n",
       "      <th>close</th>\n",
       "      <th>volume</th>\n",
       "      <th>daily_return</th>\n",
       "    </tr>\n",
       "    <tr>\n",
       "      <th>time</th>\n",
       "      <th></th>\n",
       "      <th></th>\n",
       "      <th></th>\n",
       "      <th></th>\n",
       "      <th></th>\n",
       "      <th></th>\n",
       "      <th></th>\n",
       "      <th></th>\n",
       "      <th></th>\n",
       "      <th></th>\n",
       "      <th></th>\n",
       "      <th></th>\n",
       "    </tr>\n",
       "  </thead>\n",
       "  <tbody>\n",
       "    <tr>\n",
       "      <th>2017-06-20 00:00:00-04:00</th>\n",
       "      <td>109.85</td>\n",
       "      <td>110.0300</td>\n",
       "      <td>109.80</td>\n",
       "      <td>109.975</td>\n",
       "      <td>2010628</td>\n",
       "      <td>NaN</td>\n",
       "      <td>244.25</td>\n",
       "      <td>244.26</td>\n",
       "      <td>242.990</td>\n",
       "      <td>243.04</td>\n",
       "      <td>39203167</td>\n",
       "      <td>NaN</td>\n",
       "    </tr>\n",
       "    <tr>\n",
       "      <th>2017-06-21 00:00:00-04:00</th>\n",
       "      <td>109.88</td>\n",
       "      <td>110.0400</td>\n",
       "      <td>109.88</td>\n",
       "      <td>109.980</td>\n",
       "      <td>1085301</td>\n",
       "      <td>0.000045</td>\n",
       "      <td>243.43</td>\n",
       "      <td>243.59</td>\n",
       "      <td>242.410</td>\n",
       "      <td>242.95</td>\n",
       "      <td>42746920</td>\n",
       "      <td>-0.000370</td>\n",
       "    </tr>\n",
       "    <tr>\n",
       "      <th>2017-06-22 00:00:00-04:00</th>\n",
       "      <td>110.06</td>\n",
       "      <td>110.0947</td>\n",
       "      <td>109.95</td>\n",
       "      <td>110.050</td>\n",
       "      <td>1295361</td>\n",
       "      <td>0.000636</td>\n",
       "      <td>242.97</td>\n",
       "      <td>243.53</td>\n",
       "      <td>242.640</td>\n",
       "      <td>242.83</td>\n",
       "      <td>32991335</td>\n",
       "      <td>-0.000494</td>\n",
       "    </tr>\n",
       "    <tr>\n",
       "      <th>2017-06-23 00:00:00-04:00</th>\n",
       "      <td>110.01</td>\n",
       "      <td>110.1085</td>\n",
       "      <td>109.98</td>\n",
       "      <td>110.070</td>\n",
       "      <td>1101304</td>\n",
       "      <td>0.000182</td>\n",
       "      <td>242.91</td>\n",
       "      <td>243.51</td>\n",
       "      <td>242.470</td>\n",
       "      <td>243.16</td>\n",
       "      <td>45792641</td>\n",
       "      <td>0.001359</td>\n",
       "    </tr>\n",
       "    <tr>\n",
       "      <th>2017-06-26 00:00:00-04:00</th>\n",
       "      <td>110.19</td>\n",
       "      <td>110.2400</td>\n",
       "      <td>110.13</td>\n",
       "      <td>110.160</td>\n",
       "      <td>1364100</td>\n",
       "      <td>0.000818</td>\n",
       "      <td>243.89</td>\n",
       "      <td>244.38</td>\n",
       "      <td>243.045</td>\n",
       "      <td>243.27</td>\n",
       "      <td>43153677</td>\n",
       "      <td>0.000452</td>\n",
       "    </tr>\n",
       "  </tbody>\n",
       "</table>\n",
       "</div>"
      ],
      "text/plain": [
       "                              AGG                                      \\\n",
       "                             open      high     low    close   volume   \n",
       "time                                                                    \n",
       "2017-06-20 00:00:00-04:00  109.85  110.0300  109.80  109.975  2010628   \n",
       "2017-06-21 00:00:00-04:00  109.88  110.0400  109.88  109.980  1085301   \n",
       "2017-06-22 00:00:00-04:00  110.06  110.0947  109.95  110.050  1295361   \n",
       "2017-06-23 00:00:00-04:00  110.01  110.1085  109.98  110.070  1101304   \n",
       "2017-06-26 00:00:00-04:00  110.19  110.2400  110.13  110.160  1364100   \n",
       "\n",
       "                                           SPY                           \\\n",
       "                          daily_return    open    high      low   close   \n",
       "time                                                                      \n",
       "2017-06-20 00:00:00-04:00          NaN  244.25  244.26  242.990  243.04   \n",
       "2017-06-21 00:00:00-04:00     0.000045  243.43  243.59  242.410  242.95   \n",
       "2017-06-22 00:00:00-04:00     0.000636  242.97  243.53  242.640  242.83   \n",
       "2017-06-23 00:00:00-04:00     0.000182  242.91  243.51  242.470  243.16   \n",
       "2017-06-26 00:00:00-04:00     0.000818  243.89  244.38  243.045  243.27   \n",
       "\n",
       "                                                  \n",
       "                             volume daily_return  \n",
       "time                                              \n",
       "2017-06-20 00:00:00-04:00  39203167          NaN  \n",
       "2017-06-21 00:00:00-04:00  42746920    -0.000370  \n",
       "2017-06-22 00:00:00-04:00  32991335    -0.000494  \n",
       "2017-06-23 00:00:00-04:00  45792641     0.001359  \n",
       "2017-06-26 00:00:00-04:00  43153677     0.000452  "
      ]
     },
     "execution_count": 51,
     "metadata": {},
     "output_type": "execute_result"
    }
   ],
   "source": [
    "# Configure a Monte Carlo simulation to forecast thirty years cumulative returns\n",
    "\n",
    "MC_even_dist = MCSimulation(\n",
    "    portfolio_data = investment_data_ticker,\n",
    "    weights = [.40,.60],\n",
    "    num_simulation = 500,\n",
    "    num_trading_days = 252*30\n",
    ")\n",
    "\n",
    "# Print the simulation input data\n",
    "MC_even_dist.portfolio_data.head()"
   ]
  },
  {
   "cell_type": "markdown",
   "id": "06180217-4bcd-4a45-b5d0-835e2df99f08",
   "metadata": {},
   "source": [
    "# Plot the simulation results"
   ]
  },
  {
   "cell_type": "code",
   "execution_count": null,
   "id": "c470dc39-f43e-42d2-9c86-b0918412b74c",
   "metadata": {},
   "outputs": [
    {
     "name": "stdout",
     "output_type": "stream",
     "text": [
      "Running Monte Carlo simulation number 0.\n",
      "Running Monte Carlo simulation number 10.\n",
      "Running Monte Carlo simulation number 20.\n",
      "Running Monte Carlo simulation number 30.\n",
      "Running Monte Carlo simulation number 40.\n",
      "Running Monte Carlo simulation number 50.\n",
      "Running Monte Carlo simulation number 60.\n",
      "Running Monte Carlo simulation number 70.\n",
      "Running Monte Carlo simulation number 80.\n",
      "Running Monte Carlo simulation number 90.\n",
      "Running Monte Carlo simulation number 100.\n",
      "Running Monte Carlo simulation number 110.\n",
      "Running Monte Carlo simulation number 120.\n",
      "Running Monte Carlo simulation number 130.\n",
      "Running Monte Carlo simulation number 140.\n",
      "Running Monte Carlo simulation number 150.\n",
      "Running Monte Carlo simulation number 160.\n",
      "Running Monte Carlo simulation number 170.\n",
      "Running Monte Carlo simulation number 180.\n",
      "Running Monte Carlo simulation number 190.\n",
      "Running Monte Carlo simulation number 200.\n",
      "Running Monte Carlo simulation number 210.\n",
      "Running Monte Carlo simulation number 220.\n",
      "Running Monte Carlo simulation number 230.\n",
      "Running Monte Carlo simulation number 240.\n",
      "Running Monte Carlo simulation number 250.\n",
      "Running Monte Carlo simulation number 260.\n",
      "Running Monte Carlo simulation number 270.\n",
      "Running Monte Carlo simulation number 280.\n",
      "Running Monte Carlo simulation number 290.\n",
      "Running Monte Carlo simulation number 300.\n",
      "Running Monte Carlo simulation number 310.\n",
      "Running Monte Carlo simulation number 320.\n",
      "Running Monte Carlo simulation number 330.\n",
      "Running Monte Carlo simulation number 340.\n",
      "Running Monte Carlo simulation number 350.\n",
      "Running Monte Carlo simulation number 360.\n",
      "Running Monte Carlo simulation number 370.\n"
     ]
    }
   ],
   "source": [
    "# Run a Monte Carlo simulation to forecast thirty years cumulative returns\n",
    "MC_even_dist.calc_cumulative_return()"
   ]
  },
  {
   "cell_type": "markdown",
   "id": "8ed8da7a-9995-4932-a3b8-34aabb661839",
   "metadata": {
    "tags": []
   },
   "source": [
    "# Visualizing results by ploting"
   ]
  },
  {
   "cell_type": "code",
   "execution_count": null,
   "id": "befbbaf9-e095-4e61-b5f8-ddddd9f9092b",
   "metadata": {},
   "outputs": [],
   "source": [
    "    # plot of thirty year simulations\n",
    "\n",
    "line_plot = MC_even_dist.plot_simulation() "
   ]
  },
  {
   "cell_type": "code",
   "execution_count": null,
   "id": "13de7218-e8fb-4596-bcb4-c9edd973961b",
   "metadata": {},
   "outputs": [],
   "source": [
    "    # Plot probability distribution and confidence intervals\n",
    "\n",
    "dist_plot = MC_even_dist.plot_distribution()  "
   ]
  },
  {
   "cell_type": "markdown",
   "id": "cf947be2-538d-46b5-a2e0-484a4cf61ea7",
   "metadata": {},
   "source": [
    "## Retirement analasys"
   ]
  },
  {
   "cell_type": "code",
   "execution_count": null,
   "id": "b4a55e84-0394-4a87-878a-751a46ed3e2a",
   "metadata": {},
   "outputs": [],
   "source": [
    "# Fetch summary statistics from the Monte Carlo simulation results\n",
    "even_tbl = MC_even_dist.summarize_cumulative_return()\n",
    "\n",
    "# Print summary statistics\n",
    "print(even_tbl)"
   ]
  },
  {
   "cell_type": "markdown",
   "id": "3b590e2b-2113-4814-82b0-877866cafb99",
   "metadata": {},
   "source": [
    "# Determine upper and lower confidence intervals "
   ]
  },
  {
   "cell_type": "code",
   "execution_count": null,
   "id": "03bd7dcb-80ce-43d5-981e-e0ec5e8d4f4c",
   "metadata": {},
   "outputs": [],
   "source": [
    "# Use the lower and upper `95%` confidence intervals to calculate the range of the possible outcomes of our $15,000 investments in stocks\n",
    "even_ci_lower = round(even_tbl[8]*20000,2)\n",
    "even_ci_upper = round(even_tbl[9]*20000,2)\n",
    "\n",
    "# Print results\n",
    "print(f\"There is a 95% chance that an initial investment of $20,000 in the portfolio\"\n",
    "      f\" over the next 30 years will end within in the range of\"\n",
    "      f\" ${even_ci_lower} and ${even_ci_upper}.\")"
   ]
  },
  {
   "cell_type": "code",
   "execution_count": null,
   "id": "33252c56-b49a-408b-a00a-56a79183259f",
   "metadata": {},
   "outputs": [],
   "source": [
    "# Determine intervals with 50% increase on initial investment\n",
    "even_ci_lower = round(even_tbl[8]*30000,2)\n",
    "even_ci_upper = round(even_tbl[9]*30000,2)\n",
    "\n",
    "# Print results\n",
    "print(f\"There is a 95% chance that an initial investment of $30,000 in the portfolio\"\n",
    "      f\" over the next 30 years will end within in the range of\"\n",
    "      f\" ${even_ci_lower} and ${even_ci_upper}.\")"
   ]
  },
  {
   "cell_type": "code",
   "execution_count": null,
   "id": "584ef208-b583-4c25-a27b-10ed0bae8fec",
   "metadata": {},
   "outputs": [],
   "source": []
  }
 ],
 "metadata": {
  "kernelspec": {
   "display_name": "Python 3",
   "language": "python",
   "name": "python3"
  },
  "language_info": {
   "codemirror_mode": {
    "name": "ipython",
    "version": 3
   },
   "file_extension": ".py",
   "mimetype": "text/x-python",
   "name": "python",
   "nbconvert_exporter": "python",
   "pygments_lexer": "ipython3",
   "version": "3.8.5"
  }
 },
 "nbformat": 4,
 "nbformat_minor": 5
}
