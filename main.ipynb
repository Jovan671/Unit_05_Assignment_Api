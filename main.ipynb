{
 "cells": [
  {
   "cell_type": "code",
   "execution_count": 1,
   "id": "f8d3a5ba-9266-45c3-82a8-28b13645f64f",
   "metadata": {},
   "outputs": [],
   "source": [
    "# import neccessary tools\n",
    "\n",
    "import numpy as np\n",
    "import pandas as pd\n",
    "import matplotlib.pyplot as plt\n",
    "import alpaca_trade_api as tradeapi\n",
    "from MCForecastTools import MCSimulation\n",
    "import os\n",
    "import requests\n",
    "\n",
    "%matplotlib inline"
   ]
  },
  {
   "cell_type": "code",
   "execution_count": 2,
   "id": "182e6745-93b4-4af8-9287-c041a50a1ce0",
   "metadata": {},
   "outputs": [
    {
     "data": {
      "text/plain": [
       "True"
      ]
     },
     "execution_count": 2,
     "metadata": {},
     "output_type": "execute_result"
    }
   ],
   "source": [
    "    # import envs\n",
    "    \n",
    "from dotenv import load_dotenv\n",
    "load_dotenv()"
   ]
  },
  {
   "cell_type": "code",
   "execution_count": 3,
   "id": "bfa9857f-161f-4cf1-9b4f-acfa209a6107",
   "metadata": {},
   "outputs": [],
   "source": [
    "    # get alpaca keys\n",
    "\n",
    "alpaca_api_key = os.getenv(\"ALPACA_API_KEY\")\n",
    "alpaca_secret_key = os.getenv(\"ALPACA_SECRET_KEY\")"
   ]
  },
  {
   "cell_type": "code",
   "execution_count": 4,
   "id": "de8a3e4b-6bb2-4bb1-a6a0-82ced673e271",
   "metadata": {},
   "outputs": [],
   "source": [
    "    # creating alpaca api object\n",
    "    \n",
    "api = tradeapi.REST(\n",
    "    alpaca_api_key,\n",
    "    alpaca_secret_key,\n",
    "    api_version = \"v2\")"
   ]
  },
  {
   "cell_type": "code",
   "execution_count": 5,
   "id": "f4c4cb42-910a-4e8f-84cb-0f324981a99a",
   "metadata": {},
   "outputs": [],
   "source": [
    "    # set api keys\n",
    "\n",
    "api_key = os.getenv(\"ALPACA_API_KEY\", \"ALPACA_SECRET_KEY\")"
   ]
  },
  {
   "cell_type": "code",
   "execution_count": 6,
   "id": "d5b9216c-cfa3-470e-a7e0-d5218e399f72",
   "metadata": {},
   "outputs": [],
   "source": [
    "# creating variables for crypto currencies\n",
    "\n",
    "my_btc = 1.2\n",
    "my_eth = 5.3"
   ]
  },
  {
   "cell_type": "code",
   "execution_count": 7,
   "id": "6b544bfc-30cc-4e2c-985a-ae6bb6a514a7",
   "metadata": {},
   "outputs": [],
   "source": [
    "    # get url for btc\n",
    "\n",
    "btc_url = \"https://api.alternative.me/v2/ticker/Bitcoin/?convert=CAD\""
   ]
  },
  {
   "cell_type": "code",
   "execution_count": 8,
   "id": "6690bd60-1088-4593-901d-3b4012075939",
   "metadata": {},
   "outputs": [],
   "source": [
    "btc_response = requests.get(btc_url).json()"
   ]
  },
  {
   "cell_type": "code",
   "execution_count": 9,
   "id": "b1e8234c-df0d-499c-8af2-251089421a68",
   "metadata": {},
   "outputs": [
    {
     "data": {
      "text/plain": [
       "44986.8632"
      ]
     },
     "execution_count": 9,
     "metadata": {},
     "output_type": "execute_result"
    }
   ],
   "source": [
    "btc_response['data']['1']['quotes']['CAD']['price']"
   ]
  },
  {
   "cell_type": "code",
   "execution_count": 10,
   "id": "cb2de19d-39fa-430e-b6b2-698064e4432f",
   "metadata": {},
   "outputs": [],
   "source": [
    "eth_url = \"https://api.alternative.me/v2/ticker/Ethereum/?convert=CAD\""
   ]
  },
  {
   "cell_type": "code",
   "execution_count": 11,
   "id": "7b5a4389-5a5b-4f36-b2fc-e8825d7453b4",
   "metadata": {},
   "outputs": [],
   "source": [
    "eth_response = requests.get(eth_url).json()"
   ]
  },
  {
   "cell_type": "code",
   "execution_count": 12,
   "id": "922a94e6-e52b-4337-9685-088a0d0d736b",
   "metadata": {},
   "outputs": [
    {
     "data": {
      "text/plain": [
       "3132.648416"
      ]
     },
     "execution_count": 12,
     "metadata": {},
     "output_type": "execute_result"
    }
   ],
   "source": [
    "eth_response[\"data\"][\"1027\"][\"quotes\"][\"CAD\"][\"price\"]"
   ]
  },
  {
   "cell_type": "code",
   "execution_count": 13,
   "id": "26702e90-d67a-4d53-b19e-5200ee3478f3",
   "metadata": {},
   "outputs": [],
   "source": [
    "my_agg = 200\n",
    "my_spy = 50"
   ]
  },
  {
   "cell_type": "code",
   "execution_count": 14,
   "id": "40e0ae25-1245-4280-9f32-84a0d2b1dcd4",
   "metadata": {},
   "outputs": [
    {
     "data": {
      "text/html": [
       "<div>\n",
       "<style scoped>\n",
       "    .dataframe tbody tr th:only-of-type {\n",
       "        vertical-align: middle;\n",
       "    }\n",
       "\n",
       "    .dataframe tbody tr th {\n",
       "        vertical-align: top;\n",
       "    }\n",
       "\n",
       "    .dataframe thead tr th {\n",
       "        text-align: left;\n",
       "    }\n",
       "\n",
       "    .dataframe thead tr:last-of-type th {\n",
       "        text-align: right;\n",
       "    }\n",
       "</style>\n",
       "<table border=\"1\" class=\"dataframe\">\n",
       "  <thead>\n",
       "    <tr>\n",
       "      <th></th>\n",
       "      <th colspan=\"5\" halign=\"left\">AGG</th>\n",
       "      <th colspan=\"5\" halign=\"left\">SPY</th>\n",
       "    </tr>\n",
       "    <tr>\n",
       "      <th></th>\n",
       "      <th>open</th>\n",
       "      <th>high</th>\n",
       "      <th>low</th>\n",
       "      <th>close</th>\n",
       "      <th>volume</th>\n",
       "      <th>open</th>\n",
       "      <th>high</th>\n",
       "      <th>low</th>\n",
       "      <th>close</th>\n",
       "      <th>volume</th>\n",
       "    </tr>\n",
       "    <tr>\n",
       "      <th>time</th>\n",
       "      <th></th>\n",
       "      <th></th>\n",
       "      <th></th>\n",
       "      <th></th>\n",
       "      <th></th>\n",
       "      <th></th>\n",
       "      <th></th>\n",
       "      <th></th>\n",
       "      <th></th>\n",
       "      <th></th>\n",
       "    </tr>\n",
       "  </thead>\n",
       "  <tbody>\n",
       "    <tr>\n",
       "      <th>2021-06-03 00:00:00-04:00</th>\n",
       "      <td>114.31</td>\n",
       "      <td>114.46</td>\n",
       "      <td>114.21</td>\n",
       "      <td>114.210</td>\n",
       "      <td>3270096.0</td>\n",
       "      <td>417.87</td>\n",
       "      <td>419.99</td>\n",
       "      <td>416.2800</td>\n",
       "      <td>418.86</td>\n",
       "      <td>51582905.0</td>\n",
       "    </tr>\n",
       "    <tr>\n",
       "      <th>2021-06-04 00:00:00-04:00</th>\n",
       "      <td>114.39</td>\n",
       "      <td>114.67</td>\n",
       "      <td>114.22</td>\n",
       "      <td>114.665</td>\n",
       "      <td>4334878.0</td>\n",
       "      <td>420.75</td>\n",
       "      <td>422.92</td>\n",
       "      <td>418.8422</td>\n",
       "      <td>422.57</td>\n",
       "      <td>45129316.0</td>\n",
       "    </tr>\n",
       "    <tr>\n",
       "      <th>2021-06-07 00:00:00-04:00</th>\n",
       "      <td>113.97</td>\n",
       "      <td>114.64</td>\n",
       "      <td>113.97</td>\n",
       "      <td>114.595</td>\n",
       "      <td>3639918.0</td>\n",
       "      <td>422.59</td>\n",
       "      <td>422.78</td>\n",
       "      <td>421.1900</td>\n",
       "      <td>422.23</td>\n",
       "      <td>41442963.0</td>\n",
       "    </tr>\n",
       "    <tr>\n",
       "      <th>2021-06-08 00:00:00-04:00</th>\n",
       "      <td>114.84</td>\n",
       "      <td>114.87</td>\n",
       "      <td>114.78</td>\n",
       "      <td>114.820</td>\n",
       "      <td>3951702.0</td>\n",
       "      <td>423.11</td>\n",
       "      <td>423.21</td>\n",
       "      <td>420.3200</td>\n",
       "      <td>422.27</td>\n",
       "      <td>40131441.0</td>\n",
       "    </tr>\n",
       "    <tr>\n",
       "      <th>2021-06-09 00:00:00-04:00</th>\n",
       "      <td>115.43</td>\n",
       "      <td>115.43</td>\n",
       "      <td>114.97</td>\n",
       "      <td>115.050</td>\n",
       "      <td>3418086.0</td>\n",
       "      <td>423.18</td>\n",
       "      <td>423.26</td>\n",
       "      <td>421.4100</td>\n",
       "      <td>421.62</td>\n",
       "      <td>38368598.0</td>\n",
       "    </tr>\n",
       "  </tbody>\n",
       "</table>\n",
       "</div>"
      ],
      "text/plain": [
       "                              AGG                                         SPY  \\\n",
       "                             open    high     low    close     volume    open   \n",
       "time                                                                            \n",
       "2021-06-03 00:00:00-04:00  114.31  114.46  114.21  114.210  3270096.0  417.87   \n",
       "2021-06-04 00:00:00-04:00  114.39  114.67  114.22  114.665  4334878.0  420.75   \n",
       "2021-06-07 00:00:00-04:00  113.97  114.64  113.97  114.595  3639918.0  422.59   \n",
       "2021-06-08 00:00:00-04:00  114.84  114.87  114.78  114.820  3951702.0  423.11   \n",
       "2021-06-09 00:00:00-04:00  115.43  115.43  114.97  115.050  3418086.0  423.18   \n",
       "\n",
       "                                                                 \n",
       "                             high       low   close      volume  \n",
       "time                                                             \n",
       "2021-06-03 00:00:00-04:00  419.99  416.2800  418.86  51582905.0  \n",
       "2021-06-04 00:00:00-04:00  422.92  418.8422  422.57  45129316.0  \n",
       "2021-06-07 00:00:00-04:00  422.78  421.1900  422.23  41442963.0  \n",
       "2021-06-08 00:00:00-04:00  423.21  420.3200  422.27  40131441.0  \n",
       "2021-06-09 00:00:00-04:00  423.26  421.4100  421.62  38368598.0  "
      ]
     },
     "execution_count": 14,
     "metadata": {},
     "output_type": "execute_result"
    }
   ],
   "source": [
    "# Set timeframe to '1D'\n",
    "\n",
    "timeframe = \"1D\"\n",
    "\n",
    "# Set start and end datetimes between now and 5 years ago.\n",
    "\n",
    "start_date = pd.Timestamp(\"2016-06-09\", tz=\"America/New_York\").isoformat()\n",
    "end_date = pd.Timestamp(\"2021-06-09\", tz=\"America/New_York\").isoformat()\n",
    "\n",
    "# Set the ticker information\n",
    "\n",
    "tickers = [\"AGG\", \"SPY\"]\n",
    "\n",
    "# Get 5 year's worth of historical price data\n",
    "\n",
    "investment_data_ticker = api.get_barset(\n",
    "    tickers,\n",
    "    timeframe,\n",
    "    start=start_date,\n",
    "    end=end_date,\n",
    "    limit = 1000\n",
    ").df\n",
    "\n",
    "# Display sample data\n",
    "\n",
    "investment_data_ticker.tail()"
   ]
  },
  {
   "cell_type": "code",
   "execution_count": 15,
   "id": "cb51b483-f281-41ef-9708-537ef6ae2c3a",
   "metadata": {},
   "outputs": [
    {
     "data": {
      "text/html": [
       "<div>\n",
       "<style scoped>\n",
       "    .dataframe tbody tr th:only-of-type {\n",
       "        vertical-align: middle;\n",
       "    }\n",
       "\n",
       "    .dataframe tbody tr th {\n",
       "        vertical-align: top;\n",
       "    }\n",
       "\n",
       "    .dataframe thead th {\n",
       "        text-align: right;\n",
       "    }\n",
       "</style>\n",
       "<table border=\"1\" class=\"dataframe\">\n",
       "  <thead>\n",
       "    <tr style=\"text-align: right;\">\n",
       "      <th></th>\n",
       "      <th>AGG</th>\n",
       "      <th>SPY</th>\n",
       "    </tr>\n",
       "  </thead>\n",
       "  <tbody>\n",
       "    <tr>\n",
       "      <th>2017-06-19</th>\n",
       "      <td>109.790</td>\n",
       "      <td>NaN</td>\n",
       "    </tr>\n",
       "    <tr>\n",
       "      <th>2017-06-20</th>\n",
       "      <td>109.975</td>\n",
       "      <td>243.04</td>\n",
       "    </tr>\n",
       "    <tr>\n",
       "      <th>2017-06-21</th>\n",
       "      <td>109.980</td>\n",
       "      <td>242.95</td>\n",
       "    </tr>\n",
       "    <tr>\n",
       "      <th>2017-06-22</th>\n",
       "      <td>110.050</td>\n",
       "      <td>242.83</td>\n",
       "    </tr>\n",
       "    <tr>\n",
       "      <th>2017-06-23</th>\n",
       "      <td>110.070</td>\n",
       "      <td>243.16</td>\n",
       "    </tr>\n",
       "  </tbody>\n",
       "</table>\n",
       "</div>"
      ],
      "text/plain": [
       "                AGG     SPY\n",
       "2017-06-19  109.790     NaN\n",
       "2017-06-20  109.975  243.04\n",
       "2017-06-21  109.980  242.95\n",
       "2017-06-22  110.050  242.83\n",
       "2017-06-23  110.070  243.16"
      ]
     },
     "execution_count": 15,
     "metadata": {},
     "output_type": "execute_result"
    }
   ],
   "source": [
    "# Create and empty DataFrame for closing prices\n",
    "\n",
    "data_ticker= pd.DataFrame()\n",
    "\n",
    "# Fetch the closing prices for all the tickers\n",
    "\n",
    "for ticker in tickers:\n",
    "    data_ticker[ticker] = investment_data_ticker[ticker][\"close\"]\n",
    "\n",
    "# Drop the time component of the date\n",
    "\n",
    "data_ticker.index = investment_data_ticker.index.date\n",
    "\n",
    "# Display sample data\n",
    "data_ticker.head()"
   ]
  },
  {
   "cell_type": "code",
   "execution_count": 19,
   "id": "f35b615b-dff1-49fa-acf3-d8fcedeeb3a6",
   "metadata": {},
   "outputs": [],
   "source": [
    "    # calculate closing sum\n",
    "\n",
    "closing_AGG = data_ticker[\"AGG\"].sum()\n",
    "closing_SPY = data_ticker[\"SPY\"].sum()"
   ]
  },
  {
   "cell_type": "code",
   "execution_count": 22,
   "id": "d50f3f57-5438-4ca8-bbe0-d69e020fe48f",
   "metadata": {},
   "outputs": [
    {
     "data": {
      "text/plain": [
       "111380.94"
      ]
     },
     "execution_count": 22,
     "metadata": {},
     "output_type": "execute_result"
    }
   ],
   "source": [
    "closing_AGG.round(2)"
   ]
  },
  {
   "cell_type": "code",
   "execution_count": 23,
   "id": "fa946d89-9b85-48f8-be1c-7f9887d17aac",
   "metadata": {},
   "outputs": [
    {
     "data": {
      "text/plain": [
       "301017.25"
      ]
     },
     "execution_count": 23,
     "metadata": {},
     "output_type": "execute_result"
    }
   ],
   "source": [
    "closing_SPY.round(2)"
   ]
  },
  {
   "cell_type": "code",
   "execution_count": null,
   "id": "72a7ad0a-7456-4a6a-869c-1828ffb142e3",
   "metadata": {},
   "outputs": [],
   "source": []
  }
 ],
 "metadata": {
  "kernelspec": {
   "display_name": "Python 3",
   "language": "python",
   "name": "python3"
  },
  "language_info": {
   "codemirror_mode": {
    "name": "ipython",
    "version": 3
   },
   "file_extension": ".py",
   "mimetype": "text/x-python",
   "name": "python",
   "nbconvert_exporter": "python",
   "pygments_lexer": "ipython3",
   "version": "3.8.5"
  }
 },
 "nbformat": 4,
 "nbformat_minor": 5
}
