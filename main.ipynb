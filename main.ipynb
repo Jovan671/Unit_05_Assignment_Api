{
 "cells": [
  {
   "cell_type": "code",
   "execution_count": 1,
   "id": "f8d3a5ba-9266-45c3-82a8-28b13645f64f",
   "metadata": {},
   "outputs": [],
   "source": [
    "# import neccessary tools\n",
    "\n",
    "import numpy as np\n",
    "import pandas as pd\n",
    "import matplotlib.pyplot as plt\n",
    "import alpaca_trade_api as tradeapi\n",
    "from MCForecastTools import MCSimulation\n",
    "import os\n",
    "import requests\n",
    "\n",
    "%matplotlib inline"
   ]
  },
  {
   "cell_type": "markdown",
   "id": "2e61a6ae-12b7-4df6-aec0-01d426f90cb1",
   "metadata": {},
   "source": []
  },
  {
   "cell_type": "code",
   "execution_count": 2,
   "id": "182e6745-93b4-4af8-9287-c041a50a1ce0",
   "metadata": {},
   "outputs": [
    {
     "data": {
      "text/plain": [
       "True"
      ]
     },
     "execution_count": 2,
     "metadata": {},
     "output_type": "execute_result"
    }
   ],
   "source": [
    "    # import envs\n",
    "    \n",
    "from dotenv import load_dotenv\n",
    "load_dotenv()"
   ]
  },
  {
   "cell_type": "code",
   "execution_count": 3,
   "id": "bfa9857f-161f-4cf1-9b4f-acfa209a6107",
   "metadata": {},
   "outputs": [],
   "source": [
    "    # get alpaca keys\n",
    "\n",
    "alpaca_api_key = os.getenv(\"ALPACA_API_KEY\")\n",
    "alpaca_secret_key = os.getenv(\"ALPACA_SECRET_KEY\")"
   ]
  },
  {
   "cell_type": "code",
   "execution_count": 4,
   "id": "de8a3e4b-6bb2-4bb1-a6a0-82ced673e271",
   "metadata": {},
   "outputs": [],
   "source": [
    "    # creating alpaca api object\n",
    "    \n",
    "api = tradeapi.REST(\n",
    "    alpaca_api_key,\n",
    "    alpaca_secret_key,\n",
    "    api_version = \"v2\")"
   ]
  },
  {
   "cell_type": "code",
   "execution_count": 5,
   "id": "f4c4cb42-910a-4e8f-84cb-0f324981a99a",
   "metadata": {},
   "outputs": [],
   "source": [
    "    # set api keys\n",
    "\n",
    "api_key = os.getenv(\"ALPACA_API_KEY\", \"ALPACA_SECRET_KEY\")"
   ]
  },
  {
   "cell_type": "markdown",
   "id": "d4a467e1-f6b5-425b-89aa-3b78fa66df0c",
   "metadata": {},
   "source": [
    "## Collect Crypto Prices "
   ]
  },
  {
   "cell_type": "code",
   "execution_count": 6,
   "id": "d5b9216c-cfa3-470e-a7e0-d5218e399f72",
   "metadata": {},
   "outputs": [],
   "source": [
    "# creating variables for crypto currencies\n",
    "\n",
    "my_btc = 1.2\n",
    "my_eth = 5.3"
   ]
  },
  {
   "cell_type": "code",
   "execution_count": 7,
   "id": "6b544bfc-30cc-4e2c-985a-ae6bb6a514a7",
   "metadata": {},
   "outputs": [],
   "source": [
    "    # get url for btc\n",
    "\n",
    "btc_url = \"https://api.alternative.me/v2/ticker/Bitcoin/?convert=CAD\""
   ]
  },
  {
   "cell_type": "code",
   "execution_count": 8,
   "id": "6690bd60-1088-4593-901d-3b4012075939",
   "metadata": {},
   "outputs": [],
   "source": [
    "    # request info from url for json\n",
    "\n",
    "btc_response = requests.get(btc_url).json()"
   ]
  },
  {
   "cell_type": "code",
   "execution_count": 9,
   "id": "b1e8234c-df0d-499c-8af2-251089421a68",
   "metadata": {},
   "outputs": [
    {
     "data": {
      "text/plain": [
       "44930.9575"
      ]
     },
     "execution_count": 9,
     "metadata": {},
     "output_type": "execute_result"
    }
   ],
   "source": [
    "    # get the price in CAD from json file\n",
    "\n",
    "btc_response['data']['1']['quotes']['CAD']['price']"
   ]
  },
  {
   "cell_type": "code",
   "execution_count": 10,
   "id": "cb2de19d-39fa-430e-b6b2-698064e4432f",
   "metadata": {},
   "outputs": [],
   "source": [
    "    # get url for eth\n",
    "    \n",
    "eth_url = \"https://api.alternative.me/v2/ticker/Ethereum/?convert=CAD\""
   ]
  },
  {
   "cell_type": "code",
   "execution_count": 11,
   "id": "7b5a4389-5a5b-4f36-b2fc-e8825d7453b4",
   "metadata": {},
   "outputs": [],
   "source": [
    "    # request info from url for json file\n",
    "\n",
    "eth_response = requests.get(eth_url).json()"
   ]
  },
  {
   "cell_type": "code",
   "execution_count": 12,
   "id": "922a94e6-e52b-4337-9685-088a0d0d736b",
   "metadata": {},
   "outputs": [
    {
     "data": {
      "text/plain": [
       "2843.46777"
      ]
     },
     "execution_count": 12,
     "metadata": {},
     "output_type": "execute_result"
    }
   ],
   "source": [
    "    #  get the price in CAD from json file\n",
    "    \n",
    "eth_response[\"data\"][\"1027\"][\"quotes\"][\"CAD\"][\"price\"]"
   ]
  },
  {
   "cell_type": "markdown",
   "id": "931a5ad1-fbd7-4f88-a2d8-7a46e134c883",
   "metadata": {},
   "source": [
    "## Investment Data SPY & AGG"
   ]
  },
  {
   "cell_type": "code",
   "execution_count": 13,
   "id": "26702e90-d67a-4d53-b19e-5200ee3478f3",
   "metadata": {},
   "outputs": [],
   "source": [
    "# create variables for SPY stocks and AGG bonds\n",
    "\n",
    "my_agg = 200\n",
    "my_spy = 50"
   ]
  },
  {
   "cell_type": "code",
   "execution_count": 14,
   "id": "40e0ae25-1245-4280-9f32-84a0d2b1dcd4",
   "metadata": {},
   "outputs": [
    {
     "data": {
      "text/html": [
       "<div>\n",
       "<style scoped>\n",
       "    .dataframe tbody tr th:only-of-type {\n",
       "        vertical-align: middle;\n",
       "    }\n",
       "\n",
       "    .dataframe tbody tr th {\n",
       "        vertical-align: top;\n",
       "    }\n",
       "\n",
       "    .dataframe thead tr th {\n",
       "        text-align: left;\n",
       "    }\n",
       "\n",
       "    .dataframe thead tr:last-of-type th {\n",
       "        text-align: right;\n",
       "    }\n",
       "</style>\n",
       "<table border=\"1\" class=\"dataframe\">\n",
       "  <thead>\n",
       "    <tr>\n",
       "      <th></th>\n",
       "      <th colspan=\"5\" halign=\"left\">AGG</th>\n",
       "      <th colspan=\"5\" halign=\"left\">SPY</th>\n",
       "    </tr>\n",
       "    <tr>\n",
       "      <th></th>\n",
       "      <th>open</th>\n",
       "      <th>high</th>\n",
       "      <th>low</th>\n",
       "      <th>close</th>\n",
       "      <th>volume</th>\n",
       "      <th>open</th>\n",
       "      <th>high</th>\n",
       "      <th>low</th>\n",
       "      <th>close</th>\n",
       "      <th>volume</th>\n",
       "    </tr>\n",
       "    <tr>\n",
       "      <th>time</th>\n",
       "      <th></th>\n",
       "      <th></th>\n",
       "      <th></th>\n",
       "      <th></th>\n",
       "      <th></th>\n",
       "      <th></th>\n",
       "      <th></th>\n",
       "      <th></th>\n",
       "      <th></th>\n",
       "      <th></th>\n",
       "    </tr>\n",
       "  </thead>\n",
       "  <tbody>\n",
       "    <tr>\n",
       "      <th>2021-06-03 00:00:00-04:00</th>\n",
       "      <td>114.31</td>\n",
       "      <td>114.46</td>\n",
       "      <td>114.21</td>\n",
       "      <td>114.210</td>\n",
       "      <td>3270096.0</td>\n",
       "      <td>417.87</td>\n",
       "      <td>419.99</td>\n",
       "      <td>416.2800</td>\n",
       "      <td>418.86</td>\n",
       "      <td>51582905.0</td>\n",
       "    </tr>\n",
       "    <tr>\n",
       "      <th>2021-06-04 00:00:00-04:00</th>\n",
       "      <td>114.39</td>\n",
       "      <td>114.67</td>\n",
       "      <td>114.22</td>\n",
       "      <td>114.665</td>\n",
       "      <td>4334878.0</td>\n",
       "      <td>420.75</td>\n",
       "      <td>422.92</td>\n",
       "      <td>418.8422</td>\n",
       "      <td>422.57</td>\n",
       "      <td>45129316.0</td>\n",
       "    </tr>\n",
       "    <tr>\n",
       "      <th>2021-06-07 00:00:00-04:00</th>\n",
       "      <td>113.97</td>\n",
       "      <td>114.64</td>\n",
       "      <td>113.97</td>\n",
       "      <td>114.595</td>\n",
       "      <td>3639918.0</td>\n",
       "      <td>422.59</td>\n",
       "      <td>422.78</td>\n",
       "      <td>421.1900</td>\n",
       "      <td>422.23</td>\n",
       "      <td>41442963.0</td>\n",
       "    </tr>\n",
       "    <tr>\n",
       "      <th>2021-06-08 00:00:00-04:00</th>\n",
       "      <td>114.84</td>\n",
       "      <td>114.87</td>\n",
       "      <td>114.78</td>\n",
       "      <td>114.820</td>\n",
       "      <td>3951702.0</td>\n",
       "      <td>423.11</td>\n",
       "      <td>423.21</td>\n",
       "      <td>420.3200</td>\n",
       "      <td>422.27</td>\n",
       "      <td>40131441.0</td>\n",
       "    </tr>\n",
       "    <tr>\n",
       "      <th>2021-06-09 00:00:00-04:00</th>\n",
       "      <td>115.43</td>\n",
       "      <td>115.43</td>\n",
       "      <td>114.97</td>\n",
       "      <td>115.050</td>\n",
       "      <td>3418086.0</td>\n",
       "      <td>423.18</td>\n",
       "      <td>423.26</td>\n",
       "      <td>421.4100</td>\n",
       "      <td>421.62</td>\n",
       "      <td>38368598.0</td>\n",
       "    </tr>\n",
       "  </tbody>\n",
       "</table>\n",
       "</div>"
      ],
      "text/plain": [
       "                              AGG                                         SPY  \\\n",
       "                             open    high     low    close     volume    open   \n",
       "time                                                                            \n",
       "2021-06-03 00:00:00-04:00  114.31  114.46  114.21  114.210  3270096.0  417.87   \n",
       "2021-06-04 00:00:00-04:00  114.39  114.67  114.22  114.665  4334878.0  420.75   \n",
       "2021-06-07 00:00:00-04:00  113.97  114.64  113.97  114.595  3639918.0  422.59   \n",
       "2021-06-08 00:00:00-04:00  114.84  114.87  114.78  114.820  3951702.0  423.11   \n",
       "2021-06-09 00:00:00-04:00  115.43  115.43  114.97  115.050  3418086.0  423.18   \n",
       "\n",
       "                                                                 \n",
       "                             high       low   close      volume  \n",
       "time                                                             \n",
       "2021-06-03 00:00:00-04:00  419.99  416.2800  418.86  51582905.0  \n",
       "2021-06-04 00:00:00-04:00  422.92  418.8422  422.57  45129316.0  \n",
       "2021-06-07 00:00:00-04:00  422.78  421.1900  422.23  41442963.0  \n",
       "2021-06-08 00:00:00-04:00  423.21  420.3200  422.27  40131441.0  \n",
       "2021-06-09 00:00:00-04:00  423.26  421.4100  421.62  38368598.0  "
      ]
     },
     "execution_count": 14,
     "metadata": {},
     "output_type": "execute_result"
    }
   ],
   "source": [
    "# Set timeframe to '1D'\n",
    "\n",
    "timeframe = \"1D\"\n",
    "\n",
    "# Set start and end datetimes between now and 5 years ago.\n",
    "\n",
    "start_date = pd.Timestamp(\"2016-06-09\", tz=\"America/New_York\").isoformat()\n",
    "end_date = pd.Timestamp(\"2021-06-09\", tz=\"America/New_York\").isoformat()\n",
    "\n",
    "# Set the ticker information\n",
    "\n",
    "tickers = [\"AGG\", \"SPY\"]\n",
    "\n",
    "# Get 5 year's worth of historical price data\n",
    "\n",
    "investment_data_ticker = api.get_barset(\n",
    "    tickers,\n",
    "    timeframe,\n",
    "    start=start_date,\n",
    "    end=end_date,\n",
    "    limit = 1000\n",
    ").df\n",
    "\n",
    "# Display sample data\n",
    "\n",
    "investment_data_ticker.tail()"
   ]
  },
  {
   "cell_type": "code",
   "execution_count": 15,
   "id": "cb51b483-f281-41ef-9708-537ef6ae2c3a",
   "metadata": {},
   "outputs": [
    {
     "data": {
      "text/html": [
       "<div>\n",
       "<style scoped>\n",
       "    .dataframe tbody tr th:only-of-type {\n",
       "        vertical-align: middle;\n",
       "    }\n",
       "\n",
       "    .dataframe tbody tr th {\n",
       "        vertical-align: top;\n",
       "    }\n",
       "\n",
       "    .dataframe thead th {\n",
       "        text-align: right;\n",
       "    }\n",
       "</style>\n",
       "<table border=\"1\" class=\"dataframe\">\n",
       "  <thead>\n",
       "    <tr style=\"text-align: right;\">\n",
       "      <th></th>\n",
       "      <th>AGG</th>\n",
       "      <th>SPY</th>\n",
       "    </tr>\n",
       "  </thead>\n",
       "  <tbody>\n",
       "    <tr>\n",
       "      <th>2017-06-19</th>\n",
       "      <td>109.790</td>\n",
       "      <td>NaN</td>\n",
       "    </tr>\n",
       "    <tr>\n",
       "      <th>2017-06-20</th>\n",
       "      <td>109.975</td>\n",
       "      <td>243.04</td>\n",
       "    </tr>\n",
       "    <tr>\n",
       "      <th>2017-06-21</th>\n",
       "      <td>109.980</td>\n",
       "      <td>242.95</td>\n",
       "    </tr>\n",
       "    <tr>\n",
       "      <th>2017-06-22</th>\n",
       "      <td>110.050</td>\n",
       "      <td>242.83</td>\n",
       "    </tr>\n",
       "    <tr>\n",
       "      <th>2017-06-23</th>\n",
       "      <td>110.070</td>\n",
       "      <td>243.16</td>\n",
       "    </tr>\n",
       "  </tbody>\n",
       "</table>\n",
       "</div>"
      ],
      "text/plain": [
       "                AGG     SPY\n",
       "2017-06-19  109.790     NaN\n",
       "2017-06-20  109.975  243.04\n",
       "2017-06-21  109.980  242.95\n",
       "2017-06-22  110.050  242.83\n",
       "2017-06-23  110.070  243.16"
      ]
     },
     "execution_count": 15,
     "metadata": {},
     "output_type": "execute_result"
    }
   ],
   "source": [
    "# Create and empty DataFrame for closing prices\n",
    "\n",
    "data_ticker= pd.DataFrame()\n",
    "\n",
    "# Fetch the closing prices for all the tickers\n",
    "\n",
    "for ticker in tickers:\n",
    "    data_ticker[ticker] = investment_data_ticker[ticker][\"close\"]\n",
    "\n",
    "# Drop the time component of the date\n",
    "\n",
    "data_ticker.index = investment_data_ticker.index.date\n",
    "\n",
    "# Display sample data\n",
    "data_ticker.head()"
   ]
  },
  {
   "cell_type": "code",
   "execution_count": 16,
   "id": "f35b615b-dff1-49fa-acf3-d8fcedeeb3a6",
   "metadata": {},
   "outputs": [],
   "source": [
    "    # calculate closing sum\n",
    "\n",
    "closing_AGG = data_ticker[\"AGG\"].sum()\n",
    "closing_SPY = data_ticker[\"SPY\"].sum()"
   ]
  },
  {
   "cell_type": "code",
   "execution_count": 17,
   "id": "d50f3f57-5438-4ca8-bbe0-d69e020fe48f",
   "metadata": {},
   "outputs": [
    {
     "data": {
      "text/plain": [
       "111380.94"
      ]
     },
     "execution_count": 17,
     "metadata": {},
     "output_type": "execute_result"
    }
   ],
   "source": [
    "    # round sum to two decinal places\n",
    "\n",
    "closing_AGG.round(2)"
   ]
  },
  {
   "cell_type": "code",
   "execution_count": 18,
   "id": "fa946d89-9b85-48f8-be1c-7f9887d17aac",
   "metadata": {},
   "outputs": [
    {
     "data": {
      "text/plain": [
       "301017.25"
      ]
     },
     "execution_count": 18,
     "metadata": {},
     "output_type": "execute_result"
    }
   ],
   "source": [
    "    # round sum to two decimal places\n",
    "\n",
    "closing_SPY.round(2)"
   ]
  },
  {
   "cell_type": "markdown",
   "id": "23a06cfd-7a52-457c-bf09-7ebf99306438",
   "metadata": {},
   "source": [
    "## Savings Health Analasys."
   ]
  },
  {
   "cell_type": "code",
   "execution_count": 19,
   "id": "03243163-501a-4bc1-89c8-48205309bab5",
   "metadata": {},
   "outputs": [],
   "source": [
    "# creating monthly income variable\n",
    "\n",
    "monthly_income = 12000"
   ]
  },
  {
   "cell_type": "code",
   "execution_count": 34,
   "id": "93cfae2a-8fe1-4513-88bc-b2ddd570550d",
   "metadata": {},
   "outputs": [
    {
     "data": {
      "text/plain": [
       "47774.42527"
      ]
     },
     "execution_count": 34,
     "metadata": {},
     "output_type": "execute_result"
    }
   ],
   "source": [
    "# calculate sum of crypto and shares\n",
    "\n",
    "crypto_sum = (btc_response['data']['1']['quotes']['CAD']['price'])+(eth_response[\"data\"][\"1027\"][\"quotes\"][\"CAD\"][\"price\"])\n",
    "crypto_sum\n"
   ]
  },
  {
   "cell_type": "code",
   "execution_count": 21,
   "id": "f2452c6e-622a-40f4-aaab-1b5a09b8311c",
   "metadata": {},
   "outputs": [
    {
     "data": {
      "text/plain": [
       "412398.19"
      ]
     },
     "execution_count": 21,
     "metadata": {},
     "output_type": "execute_result"
    }
   ],
   "source": [
    "shares_sum = (closing_AGG.round(2))+(closing_SPY.round(2))\n",
    "shares_sum"
   ]
  },
  {
   "cell_type": "code",
   "execution_count": 35,
   "id": "1e1879ea-d999-4c19-b200-243bd02fffc1",
   "metadata": {},
   "outputs": [
    {
     "data": {
      "text/html": [
       "<div>\n",
       "<style scoped>\n",
       "    .dataframe tbody tr th:only-of-type {\n",
       "        vertical-align: middle;\n",
       "    }\n",
       "\n",
       "    .dataframe tbody tr th {\n",
       "        vertical-align: top;\n",
       "    }\n",
       "\n",
       "    .dataframe thead th {\n",
       "        text-align: right;\n",
       "    }\n",
       "</style>\n",
       "<table border=\"1\" class=\"dataframe\">\n",
       "  <thead>\n",
       "    <tr style=\"text-align: right;\">\n",
       "      <th></th>\n",
       "      <th>Amount</th>\n",
       "    </tr>\n",
       "  </thead>\n",
       "  <tbody>\n",
       "    <tr>\n",
       "      <th>crypto</th>\n",
       "      <td>47774.42527</td>\n",
       "    </tr>\n",
       "    <tr>\n",
       "      <th>shares</th>\n",
       "      <td>412398.19</td>\n",
       "    </tr>\n",
       "  </tbody>\n",
       "</table>\n",
       "</div>"
      ],
      "text/plain": [
       "             Amount\n",
       "crypto  47774.42527\n",
       "shares    412398.19"
      ]
     },
     "execution_count": 35,
     "metadata": {},
     "output_type": "execute_result"
    }
   ],
   "source": [
    "# initialise data of lists.\n",
    "data = {\"Amount\":[\"47774.42527\", \"412398.19\"]\n",
    "        }\n",
    "  \n",
    "# Creates pandas DataFrame.\n",
    "df_savings = pd.DataFrame(data, index =[\"crypto\",\n",
    "                               \"shares\"])\n",
    "  \n",
    "# print the data\n",
    "df_savings"
   ]
  },
  {
   "cell_type": "code",
   "execution_count": 36,
   "id": "fbe31ea4-993f-4537-b45d-331664e8f720",
   "metadata": {},
   "outputs": [
    {
     "data": {
      "image/png": "[encoded data removed]",
      "text/plain": [
       "<Figure size 432x288 with 1 Axes>"
      ]
     },
     "metadata": {},
     "output_type": "display_data"
    }
   ],
   "source": [
    "# plotting a pie chart\n",
    "\n",
    "import matplotlib.pyplot as plt\n",
    "import numpy as np\n",
    "\n",
    "labels = df_savings.index\n",
    "colors = [ \"green\", \"gold\"]\n",
    "plt.pie(df_savings[\"Amount\"], labels= labels, colors=colors, startangle=90, autopct='%.1f%%')\n",
    "plt.show()"
   ]
  },
  {
   "cell_type": "code",
   "execution_count": 24,
   "id": "14f7d4b4-6fb0-40ef-b0f2-be0030b6b835",
   "metadata": {},
   "outputs": [],
   "source": [
    "# create conditional statements for emergency fund\n",
    "\n",
    "emergency_fund = 36000"
   ]
  },
  {
   "cell_type": "code",
   "execution_count": 25,
   "id": "e80ff65f-5d5d-40d0-8fad-935460989a14",
   "metadata": {},
   "outputs": [
    {
     "name": "stdout",
     "output_type": "stream",
     "text": [
      " congratulations you have enough money in this fund\n"
     ]
    }
   ],
   "source": [
    "# print conditional statements\n",
    "\n",
    "crypto_savings = 48305.173345\n",
    "shares_savings = 412398.19\n",
    "\n",
    "a = 200\n",
    "b = 33\n",
    "if crypto_savings > emergency_fund:\n",
    "  print(\" congratulations you have enough money in this fund\")\n",
    "elif emergeycy_fund == crypto_savings:\n",
    "  print(\"congratulations you have reached your financial goals\")\n",
    "else:\n",
    "  print(\"you are almost at yor financial goal you only need\")"
   ]
  },
  {
   "cell_type": "markdown",
   "id": "bdd74684-d551-4c23-be22-c61bda05e38f",
   "metadata": {},
   "source": [
    "## Monte Carlo Simulation"
   ]
  },
  {
   "cell_type": "code",
   "execution_count": 26,
   "id": "30935ed9-a31c-47f8-a503-af68713f9291",
   "metadata": {},
   "outputs": [
    {
     "data": {
      "text/html": [
       "<div>\n",
       "<style scoped>\n",
       "    .dataframe tbody tr th:only-of-type {\n",
       "        vertical-align: middle;\n",
       "    }\n",
       "\n",
       "    .dataframe tbody tr th {\n",
       "        vertical-align: top;\n",
       "    }\n",
       "\n",
       "    .dataframe thead tr th {\n",
       "        text-align: left;\n",
       "    }\n",
       "\n",
       "    .dataframe thead tr:last-of-type th {\n",
       "        text-align: right;\n",
       "    }\n",
       "</style>\n",
       "<table border=\"1\" class=\"dataframe\">\n",
       "  <thead>\n",
       "    <tr>\n",
       "      <th></th>\n",
       "      <th colspan=\"6\" halign=\"left\">AGG</th>\n",
       "      <th colspan=\"6\" halign=\"left\">SPY</th>\n",
       "    </tr>\n",
       "    <tr>\n",
       "      <th></th>\n",
       "      <th>open</th>\n",
       "      <th>high</th>\n",
       "      <th>low</th>\n",
       "      <th>close</th>\n",
       "      <th>volume</th>\n",
       "      <th>daily_return</th>\n",
       "      <th>open</th>\n",
       "      <th>high</th>\n",
       "      <th>low</th>\n",
       "      <th>close</th>\n",
       "      <th>volume</th>\n",
       "      <th>daily_return</th>\n",
       "    </tr>\n",
       "    <tr>\n",
       "      <th>time</th>\n",
       "      <th></th>\n",
       "      <th></th>\n",
       "      <th></th>\n",
       "      <th></th>\n",
       "      <th></th>\n",
       "      <th></th>\n",
       "      <th></th>\n",
       "      <th></th>\n",
       "      <th></th>\n",
       "      <th></th>\n",
       "      <th></th>\n",
       "      <th></th>\n",
       "    </tr>\n",
       "  </thead>\n",
       "  <tbody>\n",
       "    <tr>\n",
       "      <th>2017-06-19 00:00:00-04:00</th>\n",
       "      <td>109.87</td>\n",
       "      <td>109.9000</td>\n",
       "      <td>109.74</td>\n",
       "      <td>109.790</td>\n",
       "      <td>1375531.0</td>\n",
       "      <td>NaN</td>\n",
       "      <td>NaN</td>\n",
       "      <td>NaN</td>\n",
       "      <td>NaN</td>\n",
       "      <td>NaN</td>\n",
       "      <td>NaN</td>\n",
       "      <td>NaN</td>\n",
       "    </tr>\n",
       "    <tr>\n",
       "      <th>2017-06-20 00:00:00-04:00</th>\n",
       "      <td>109.85</td>\n",
       "      <td>110.0300</td>\n",
       "      <td>109.80</td>\n",
       "      <td>109.975</td>\n",
       "      <td>2010628.0</td>\n",
       "      <td>0.001685</td>\n",
       "      <td>244.25</td>\n",
       "      <td>244.26</td>\n",
       "      <td>242.99</td>\n",
       "      <td>243.04</td>\n",
       "      <td>39203167.0</td>\n",
       "      <td>NaN</td>\n",
       "    </tr>\n",
       "    <tr>\n",
       "      <th>2017-06-21 00:00:00-04:00</th>\n",
       "      <td>109.88</td>\n",
       "      <td>110.0400</td>\n",
       "      <td>109.88</td>\n",
       "      <td>109.980</td>\n",
       "      <td>1085301.0</td>\n",
       "      <td>0.000045</td>\n",
       "      <td>243.43</td>\n",
       "      <td>243.59</td>\n",
       "      <td>242.41</td>\n",
       "      <td>242.95</td>\n",
       "      <td>42746920.0</td>\n",
       "      <td>-0.000370</td>\n",
       "    </tr>\n",
       "    <tr>\n",
       "      <th>2017-06-22 00:00:00-04:00</th>\n",
       "      <td>110.06</td>\n",
       "      <td>110.0947</td>\n",
       "      <td>109.95</td>\n",
       "      <td>110.050</td>\n",
       "      <td>1295361.0</td>\n",
       "      <td>0.000636</td>\n",
       "      <td>242.97</td>\n",
       "      <td>243.53</td>\n",
       "      <td>242.64</td>\n",
       "      <td>242.83</td>\n",
       "      <td>32991335.0</td>\n",
       "      <td>-0.000494</td>\n",
       "    </tr>\n",
       "    <tr>\n",
       "      <th>2017-06-23 00:00:00-04:00</th>\n",
       "      <td>110.01</td>\n",
       "      <td>110.1085</td>\n",
       "      <td>109.98</td>\n",
       "      <td>110.070</td>\n",
       "      <td>1101304.0</td>\n",
       "      <td>0.000182</td>\n",
       "      <td>242.91</td>\n",
       "      <td>243.51</td>\n",
       "      <td>242.47</td>\n",
       "      <td>243.16</td>\n",
       "      <td>45792641.0</td>\n",
       "      <td>0.001359</td>\n",
       "    </tr>\n",
       "  </tbody>\n",
       "</table>\n",
       "</div>"
      ],
      "text/plain": [
       "                              AGG                                        \\\n",
       "                             open      high     low    close     volume   \n",
       "time                                                                      \n",
       "2017-06-19 00:00:00-04:00  109.87  109.9000  109.74  109.790  1375531.0   \n",
       "2017-06-20 00:00:00-04:00  109.85  110.0300  109.80  109.975  2010628.0   \n",
       "2017-06-21 00:00:00-04:00  109.88  110.0400  109.88  109.980  1085301.0   \n",
       "2017-06-22 00:00:00-04:00  110.06  110.0947  109.95  110.050  1295361.0   \n",
       "2017-06-23 00:00:00-04:00  110.01  110.1085  109.98  110.070  1101304.0   \n",
       "\n",
       "                                           SPY                          \\\n",
       "                          daily_return    open    high     low   close   \n",
       "time                                                                     \n",
       "2017-06-19 00:00:00-04:00          NaN     NaN     NaN     NaN     NaN   \n",
       "2017-06-20 00:00:00-04:00     0.001685  244.25  244.26  242.99  243.04   \n",
       "2017-06-21 00:00:00-04:00     0.000045  243.43  243.59  242.41  242.95   \n",
       "2017-06-22 00:00:00-04:00     0.000636  242.97  243.53  242.64  242.83   \n",
       "2017-06-23 00:00:00-04:00     0.000182  242.91  243.51  242.47  243.16   \n",
       "\n",
       "                                                    \n",
       "                               volume daily_return  \n",
       "time                                                \n",
       "2017-06-19 00:00:00-04:00         NaN          NaN  \n",
       "2017-06-20 00:00:00-04:00  39203167.0          NaN  \n",
       "2017-06-21 00:00:00-04:00  42746920.0    -0.000370  \n",
       "2017-06-22 00:00:00-04:00  32991335.0    -0.000494  \n",
       "2017-06-23 00:00:00-04:00  45792641.0     0.001359  "
      ]
     },
     "execution_count": 26,
     "metadata": {},
     "output_type": "execute_result"
    }
   ],
   "source": [
    "# Configure a Monte Carlo simulation to forecast thirty years cumulative returns\n",
    "\n",
    "MC_even_dist = MCSimulation(\n",
    "    portfolio_data = investment_data_ticker,\n",
    "    weights = [.40,.60],\n",
    "    num_simulation = 500,\n",
    "    num_trading_days = 252*30\n",
    ")\n",
    "\n",
    "# Print the simulation input data\n",
    "MC_even_dist.portfolio_data.head()"
   ]
  },
  {
   "cell_type": "markdown",
   "id": "06180217-4bcd-4a45-b5d0-835e2df99f08",
   "metadata": {},
   "source": [
    "# Plot the simulation results"
   ]
  },
  {
   "cell_type": "code",
   "execution_count": 27,
   "id": "c470dc39-f43e-42d2-9c86-b0918412b74c",
   "metadata": {},
   "outputs": [
    {
     "name": "stdout",
     "output_type": "stream",
     "text": [
      "Running Monte Carlo simulation number 0.\n",
      "Running Monte Carlo simulation number 10.\n",
      "Running Monte Carlo simulation number 20.\n",
      "Running Monte Carlo simulation number 30.\n",
      "Running Monte Carlo simulation number 40.\n",
      "Running Monte Carlo simulation number 50.\n",
      "Running Monte Carlo simulation number 60.\n",
      "Running Monte Carlo simulation number 70.\n",
      "Running Monte Carlo simulation number 80.\n",
      "Running Monte Carlo simulation number 90.\n",
      "Running Monte Carlo simulation number 100.\n",
      "Running Monte Carlo simulation number 110.\n",
      "Running Monte Carlo simulation number 120.\n",
      "Running Monte Carlo simulation number 130.\n",
      "Running Monte Carlo simulation number 140.\n",
      "Running Monte Carlo simulation number 150.\n",
      "Running Monte Carlo simulation number 160.\n",
      "Running Monte Carlo simulation number 170.\n",
      "Running Monte Carlo simulation number 180.\n",
      "Running Monte Carlo simulation number 190.\n",
      "Running Monte Carlo simulation number 200.\n",
      "Running Monte Carlo simulation number 210.\n",
      "Running Monte Carlo simulation number 220.\n",
      "Running Monte Carlo simulation number 230.\n",
      "Running Monte Carlo simulation number 240.\n",
      "Running Monte Carlo simulation number 250.\n",
      "Running Monte Carlo simulation number 260.\n",
      "Running Monte Carlo simulation number 270.\n",
      "Running Monte Carlo simulation number 280.\n",
      "Running Monte Carlo simulation number 290.\n",
      "Running Monte Carlo simulation number 300.\n",
      "Running Monte Carlo simulation number 310.\n",
      "Running Monte Carlo simulation number 320.\n",
      "Running Monte Carlo simulation number 330.\n",
      "Running Monte Carlo simulation number 340.\n",
      "Running Monte Carlo simulation number 350.\n",
      "Running Monte Carlo simulation number 360.\n",
      "Running Monte Carlo simulation number 370.\n",
      "Running Monte Carlo simulation number 380.\n",
      "Running Monte Carlo simulation number 390.\n",
      "Running Monte Carlo simulation number 400.\n",
      "Running Monte Carlo simulation number 410.\n",
      "Running Monte Carlo simulation number 420.\n",
      "Running Monte Carlo simulation number 430.\n",
      "Running Monte Carlo simulation number 440.\n",
      "Running Monte Carlo simulation number 450.\n",
      "Running Monte Carlo simulation number 460.\n",
      "Running Monte Carlo simulation number 470.\n",
      "Running Monte Carlo simulation number 480.\n",
      "Running Monte Carlo simulation number 490.\n"
     ]
    },
    {
     "data": {
      "text/html": [
       "<div>\n",
       "<style scoped>\n",
       "    .dataframe tbody tr th:only-of-type {\n",
       "        vertical-align: middle;\n",
       "    }\n",
       "\n",
       "    .dataframe tbody tr th {\n",
       "        vertical-align: top;\n",
       "    }\n",
       "\n",
       "    .dataframe thead th {\n",
       "        text-align: right;\n",
       "    }\n",
       "</style>\n",
       "<table border=\"1\" class=\"dataframe\">\n",
       "  <thead>\n",
       "    <tr style=\"text-align: right;\">\n",
       "      <th></th>\n",
       "      <th>0</th>\n",
       "      <th>1</th>\n",
       "      <th>2</th>\n",
       "      <th>3</th>\n",
       "      <th>4</th>\n",
       "      <th>5</th>\n",
       "      <th>6</th>\n",
       "      <th>7</th>\n",
       "      <th>8</th>\n",
       "      <th>9</th>\n",
       "      <th>...</th>\n",
       "      <th>490</th>\n",
       "      <th>491</th>\n",
       "      <th>492</th>\n",
       "      <th>493</th>\n",
       "      <th>494</th>\n",
       "      <th>495</th>\n",
       "      <th>496</th>\n",
       "      <th>497</th>\n",
       "      <th>498</th>\n",
       "      <th>499</th>\n",
       "    </tr>\n",
       "  </thead>\n",
       "  <tbody>\n",
       "    <tr>\n",
       "      <th>0</th>\n",
       "      <td>1.000000</td>\n",
       "      <td>1.000000</td>\n",
       "      <td>1.000000</td>\n",
       "      <td>1.000000</td>\n",
       "      <td>1.000000</td>\n",
       "      <td>1.000000</td>\n",
       "      <td>1.000000</td>\n",
       "      <td>1.000000</td>\n",
       "      <td>1.000000</td>\n",
       "      <td>1.000000</td>\n",
       "      <td>...</td>\n",
       "      <td>1.000000</td>\n",
       "      <td>1.000000</td>\n",
       "      <td>1.000000</td>\n",
       "      <td>1.000000</td>\n",
       "      <td>1.000000</td>\n",
       "      <td>1.000000</td>\n",
       "      <td>1.000000</td>\n",
       "      <td>1.000000</td>\n",
       "      <td>1.000000</td>\n",
       "      <td>1.000000</td>\n",
       "    </tr>\n",
       "    <tr>\n",
       "      <th>1</th>\n",
       "      <td>1.010978</td>\n",
       "      <td>1.003614</td>\n",
       "      <td>1.000638</td>\n",
       "      <td>0.998288</td>\n",
       "      <td>1.004246</td>\n",
       "      <td>1.001563</td>\n",
       "      <td>1.001115</td>\n",
       "      <td>0.999818</td>\n",
       "      <td>0.999431</td>\n",
       "      <td>0.980962</td>\n",
       "      <td>...</td>\n",
       "      <td>1.001883</td>\n",
       "      <td>0.989875</td>\n",
       "      <td>1.002105</td>\n",
       "      <td>1.007004</td>\n",
       "      <td>1.000548</td>\n",
       "      <td>1.004251</td>\n",
       "      <td>0.988902</td>\n",
       "      <td>0.992117</td>\n",
       "      <td>0.997870</td>\n",
       "      <td>0.996746</td>\n",
       "    </tr>\n",
       "    <tr>\n",
       "      <th>2</th>\n",
       "      <td>1.025725</td>\n",
       "      <td>1.002205</td>\n",
       "      <td>0.996579</td>\n",
       "      <td>0.997482</td>\n",
       "      <td>1.017879</td>\n",
       "      <td>1.004717</td>\n",
       "      <td>1.003848</td>\n",
       "      <td>0.997753</td>\n",
       "      <td>0.996304</td>\n",
       "      <td>0.990121</td>\n",
       "      <td>...</td>\n",
       "      <td>1.005373</td>\n",
       "      <td>0.995359</td>\n",
       "      <td>1.009243</td>\n",
       "      <td>1.019818</td>\n",
       "      <td>1.015390</td>\n",
       "      <td>1.002609</td>\n",
       "      <td>0.992662</td>\n",
       "      <td>0.992239</td>\n",
       "      <td>0.999024</td>\n",
       "      <td>0.996890</td>\n",
       "    </tr>\n",
       "    <tr>\n",
       "      <th>3</th>\n",
       "      <td>1.030872</td>\n",
       "      <td>0.995350</td>\n",
       "      <td>1.003051</td>\n",
       "      <td>1.016049</td>\n",
       "      <td>1.010218</td>\n",
       "      <td>0.992117</td>\n",
       "      <td>0.996905</td>\n",
       "      <td>1.006968</td>\n",
       "      <td>0.985365</td>\n",
       "      <td>0.995720</td>\n",
       "      <td>...</td>\n",
       "      <td>1.005813</td>\n",
       "      <td>0.987725</td>\n",
       "      <td>1.019187</td>\n",
       "      <td>1.013422</td>\n",
       "      <td>1.018925</td>\n",
       "      <td>0.996405</td>\n",
       "      <td>0.982036</td>\n",
       "      <td>0.983637</td>\n",
       "      <td>1.006667</td>\n",
       "      <td>0.996267</td>\n",
       "    </tr>\n",
       "    <tr>\n",
       "      <th>4</th>\n",
       "      <td>1.027024</td>\n",
       "      <td>0.979162</td>\n",
       "      <td>1.013229</td>\n",
       "      <td>1.007632</td>\n",
       "      <td>1.010302</td>\n",
       "      <td>0.983912</td>\n",
       "      <td>0.991152</td>\n",
       "      <td>1.011075</td>\n",
       "      <td>0.991498</td>\n",
       "      <td>0.997757</td>\n",
       "      <td>...</td>\n",
       "      <td>1.005302</td>\n",
       "      <td>0.997392</td>\n",
       "      <td>1.008682</td>\n",
       "      <td>1.028955</td>\n",
       "      <td>1.018101</td>\n",
       "      <td>0.993881</td>\n",
       "      <td>0.977943</td>\n",
       "      <td>0.998883</td>\n",
       "      <td>1.014472</td>\n",
       "      <td>0.992311</td>\n",
       "    </tr>\n",
       "    <tr>\n",
       "      <th>...</th>\n",
       "      <td>...</td>\n",
       "      <td>...</td>\n",
       "      <td>...</td>\n",
       "      <td>...</td>\n",
       "      <td>...</td>\n",
       "      <td>...</td>\n",
       "      <td>...</td>\n",
       "      <td>...</td>\n",
       "      <td>...</td>\n",
       "      <td>...</td>\n",
       "      <td>...</td>\n",
       "      <td>...</td>\n",
       "      <td>...</td>\n",
       "      <td>...</td>\n",
       "      <td>...</td>\n",
       "      <td>...</td>\n",
       "      <td>...</td>\n",
       "      <td>...</td>\n",
       "      <td>...</td>\n",
       "      <td>...</td>\n",
       "      <td>...</td>\n",
       "    </tr>\n",
       "    <tr>\n",
       "      <th>7556</th>\n",
       "      <td>27.274204</td>\n",
       "      <td>8.257110</td>\n",
       "      <td>31.223211</td>\n",
       "      <td>4.956842</td>\n",
       "      <td>49.298256</td>\n",
       "      <td>11.076227</td>\n",
       "      <td>10.082009</td>\n",
       "      <td>26.875799</td>\n",
       "      <td>13.416607</td>\n",
       "      <td>21.384670</td>\n",
       "      <td>...</td>\n",
       "      <td>32.747882</td>\n",
       "      <td>19.174575</td>\n",
       "      <td>8.829051</td>\n",
       "      <td>20.024109</td>\n",
       "      <td>12.333667</td>\n",
       "      <td>10.448381</td>\n",
       "      <td>26.673408</td>\n",
       "      <td>16.853250</td>\n",
       "      <td>19.215634</td>\n",
       "      <td>49.446504</td>\n",
       "    </tr>\n",
       "    <tr>\n",
       "      <th>7557</th>\n",
       "      <td>27.044112</td>\n",
       "      <td>8.181217</td>\n",
       "      <td>31.118865</td>\n",
       "      <td>4.957089</td>\n",
       "      <td>49.918068</td>\n",
       "      <td>11.057464</td>\n",
       "      <td>10.097914</td>\n",
       "      <td>26.877052</td>\n",
       "      <td>13.262952</td>\n",
       "      <td>21.644214</td>\n",
       "      <td>...</td>\n",
       "      <td>32.398151</td>\n",
       "      <td>19.341795</td>\n",
       "      <td>8.687848</td>\n",
       "      <td>19.789837</td>\n",
       "      <td>12.121144</td>\n",
       "      <td>10.383958</td>\n",
       "      <td>26.841062</td>\n",
       "      <td>16.801160</td>\n",
       "      <td>19.301379</td>\n",
       "      <td>49.806148</td>\n",
       "    </tr>\n",
       "    <tr>\n",
       "      <th>7558</th>\n",
       "      <td>26.881582</td>\n",
       "      <td>8.143964</td>\n",
       "      <td>30.723039</td>\n",
       "      <td>4.929251</td>\n",
       "      <td>49.298418</td>\n",
       "      <td>11.048400</td>\n",
       "      <td>10.257222</td>\n",
       "      <td>26.821711</td>\n",
       "      <td>13.153780</td>\n",
       "      <td>21.549785</td>\n",
       "      <td>...</td>\n",
       "      <td>32.337414</td>\n",
       "      <td>19.167537</td>\n",
       "      <td>8.636570</td>\n",
       "      <td>19.469027</td>\n",
       "      <td>12.142699</td>\n",
       "      <td>10.391870</td>\n",
       "      <td>26.672220</td>\n",
       "      <td>16.839812</td>\n",
       "      <td>19.038174</td>\n",
       "      <td>50.178310</td>\n",
       "    </tr>\n",
       "    <tr>\n",
       "      <th>7559</th>\n",
       "      <td>26.599418</td>\n",
       "      <td>8.122694</td>\n",
       "      <td>30.622624</td>\n",
       "      <td>4.954160</td>\n",
       "      <td>48.982376</td>\n",
       "      <td>11.100994</td>\n",
       "      <td>10.253277</td>\n",
       "      <td>27.213003</td>\n",
       "      <td>13.316851</td>\n",
       "      <td>21.650761</td>\n",
       "      <td>...</td>\n",
       "      <td>32.479090</td>\n",
       "      <td>19.247424</td>\n",
       "      <td>8.500808</td>\n",
       "      <td>19.519289</td>\n",
       "      <td>12.201157</td>\n",
       "      <td>10.568907</td>\n",
       "      <td>26.818863</td>\n",
       "      <td>16.872962</td>\n",
       "      <td>19.149505</td>\n",
       "      <td>50.443543</td>\n",
       "    </tr>\n",
       "    <tr>\n",
       "      <th>7560</th>\n",
       "      <td>26.472653</td>\n",
       "      <td>8.090410</td>\n",
       "      <td>30.359423</td>\n",
       "      <td>4.944186</td>\n",
       "      <td>49.960473</td>\n",
       "      <td>10.946167</td>\n",
       "      <td>10.402902</td>\n",
       "      <td>27.443541</td>\n",
       "      <td>13.386726</td>\n",
       "      <td>21.970918</td>\n",
       "      <td>...</td>\n",
       "      <td>32.692332</td>\n",
       "      <td>19.445977</td>\n",
       "      <td>8.590377</td>\n",
       "      <td>19.708680</td>\n",
       "      <td>12.225252</td>\n",
       "      <td>10.657696</td>\n",
       "      <td>27.176426</td>\n",
       "      <td>16.831033</td>\n",
       "      <td>19.230414</td>\n",
       "      <td>49.481050</td>\n",
       "    </tr>\n",
       "  </tbody>\n",
       "</table>\n",
       "<p>7561 rows × 500 columns</p>\n",
       "</div>"
      ],
      "text/plain": [
       "            0         1          2         3          4          5    \\\n",
       "0      1.000000  1.000000   1.000000  1.000000   1.000000   1.000000   \n",
       "1      1.010978  1.003614   1.000638  0.998288   1.004246   1.001563   \n",
       "2      1.025725  1.002205   0.996579  0.997482   1.017879   1.004717   \n",
       "3      1.030872  0.995350   1.003051  1.016049   1.010218   0.992117   \n",
       "4      1.027024  0.979162   1.013229  1.007632   1.010302   0.983912   \n",
       "...         ...       ...        ...       ...        ...        ...   \n",
       "7556  27.274204  8.257110  31.223211  4.956842  49.298256  11.076227   \n",
       "7557  27.044112  8.181217  31.118865  4.957089  49.918068  11.057464   \n",
       "7558  26.881582  8.143964  30.723039  4.929251  49.298418  11.048400   \n",
       "7559  26.599418  8.122694  30.622624  4.954160  48.982376  11.100994   \n",
       "7560  26.472653  8.090410  30.359423  4.944186  49.960473  10.946167   \n",
       "\n",
       "            6          7          8          9    ...        490        491  \\\n",
       "0      1.000000   1.000000   1.000000   1.000000  ...   1.000000   1.000000   \n",
       "1      1.001115   0.999818   0.999431   0.980962  ...   1.001883   0.989875   \n",
       "2      1.003848   0.997753   0.996304   0.990121  ...   1.005373   0.995359   \n",
       "3      0.996905   1.006968   0.985365   0.995720  ...   1.005813   0.987725   \n",
       "4      0.991152   1.011075   0.991498   0.997757  ...   1.005302   0.997392   \n",
       "...         ...        ...        ...        ...  ...        ...        ...   \n",
       "7556  10.082009  26.875799  13.416607  21.384670  ...  32.747882  19.174575   \n",
       "7557  10.097914  26.877052  13.262952  21.644214  ...  32.398151  19.341795   \n",
       "7558  10.257222  26.821711  13.153780  21.549785  ...  32.337414  19.167537   \n",
       "7559  10.253277  27.213003  13.316851  21.650761  ...  32.479090  19.247424   \n",
       "7560  10.402902  27.443541  13.386726  21.970918  ...  32.692332  19.445977   \n",
       "\n",
       "           492        493        494        495        496        497  \\\n",
       "0     1.000000   1.000000   1.000000   1.000000   1.000000   1.000000   \n",
       "1     1.002105   1.007004   1.000548   1.004251   0.988902   0.992117   \n",
       "2     1.009243   1.019818   1.015390   1.002609   0.992662   0.992239   \n",
       "3     1.019187   1.013422   1.018925   0.996405   0.982036   0.983637   \n",
       "4     1.008682   1.028955   1.018101   0.993881   0.977943   0.998883   \n",
       "...        ...        ...        ...        ...        ...        ...   \n",
       "7556  8.829051  20.024109  12.333667  10.448381  26.673408  16.853250   \n",
       "7557  8.687848  19.789837  12.121144  10.383958  26.841062  16.801160   \n",
       "7558  8.636570  19.469027  12.142699  10.391870  26.672220  16.839812   \n",
       "7559  8.500808  19.519289  12.201157  10.568907  26.818863  16.872962   \n",
       "7560  8.590377  19.708680  12.225252  10.657696  27.176426  16.831033   \n",
       "\n",
       "            498        499  \n",
       "0      1.000000   1.000000  \n",
       "1      0.997870   0.996746  \n",
       "2      0.999024   0.996890  \n",
       "3      1.006667   0.996267  \n",
       "4      1.014472   0.992311  \n",
       "...         ...        ...  \n",
       "7556  19.215634  49.446504  \n",
       "7557  19.301379  49.806148  \n",
       "7558  19.038174  50.178310  \n",
       "7559  19.149505  50.443543  \n",
       "7560  19.230414  49.481050  \n",
       "\n",
       "[7561 rows x 500 columns]"
      ]
     },
     "execution_count": 27,
     "metadata": {},
     "output_type": "execute_result"
    }
   ],
   "source": [
    "# Run a Monte Carlo simulation to forecast thirty years cumulative returns\n",
    "MC_even_dist.calc_cumulative_return()"
   ]
  },
  {
   "cell_type": "markdown",
   "id": "8ed8da7a-9995-4932-a3b8-34aabb661839",
   "metadata": {
    "tags": []
   },
   "source": [
    "# Visualizing results by ploting"
   ]
  },
  {
   "cell_type": "code",
   "execution_count": 28,
   "id": "befbbaf9-e095-4e61-b5f8-ddddd9f9092b",
   "metadata": {},
   "outputs": [
    {
     "data": {
      "image/png": "[encoded data removed]",
      "text/plain": [
       "<Figure size 432x288 with 1 Axes>"
      ]
     },
     "metadata": {
      "needs_background": "light"
     },
     "output_type": "display_data"
    }
   ],
   "source": [
    "    # plot of thirty year simulations\n",
    "\n",
    "line_plot = MC_even_dist.plot_simulation() "
   ]
  },
  {
   "cell_type": "code",
   "execution_count": 29,
   "id": "13de7218-e8fb-4596-bcb4-c9edd973961b",
   "metadata": {},
   "outputs": [
    {
     "data": {
      "image/png": "[encoded data removed]",
      "text/plain": [
       "<Figure size 432x288 with 1 Axes>"
      ]
     },
     "metadata": {
      "needs_background": "light"
     },
     "output_type": "display_data"
    }
   ],
   "source": [
    "    # Plot probability distribution and confidence intervals\n",
    "\n",
    "dist_plot = MC_even_dist.plot_distribution()  "
   ]
  },
  {
   "cell_type": "markdown",
   "id": "cf947be2-538d-46b5-a2e0-484a4cf61ea7",
   "metadata": {},
   "source": [
    "## Retirement analasys"
   ]
  },
  {
   "cell_type": "code",
   "execution_count": 30,
   "id": "b4a55e84-0394-4a87-878a-751a46ed3e2a",
   "metadata": {},
   "outputs": [
    {
     "name": "stdout",
     "output_type": "stream",
     "text": [
      "count           500.000000\n",
      "mean             21.009017\n",
      "std              15.115332\n",
      "min               2.098170\n",
      "25%              10.515046\n",
      "50%              16.639426\n",
      "75%              27.167896\n",
      "max             132.993267\n",
      "95% CI Lower      4.916300\n",
      "95% CI Upper     60.817266\n",
      "Name: 7560, dtype: float64\n"
     ]
    }
   ],
   "source": [
    "# Fetch summary statistics from the Monte Carlo simulation results\n",
    "even_tbl = MC_even_dist.summarize_cumulative_return()\n",
    "\n",
    "# Print summary statistics\n",
    "print(even_tbl)"
   ]
  },
  {
   "cell_type": "markdown",
   "id": "3b590e2b-2113-4814-82b0-877866cafb99",
   "metadata": {},
   "source": [
    "# Determine upper and lower confidence intervals "
   ]
  },
  {
   "cell_type": "code",
   "execution_count": 31,
   "id": "03bd7dcb-80ce-43d5-981e-e0ec5e8d4f4c",
   "metadata": {},
   "outputs": [
    {
     "name": "stdout",
     "output_type": "stream",
     "text": [
      "There is a 95% chance that an initial investment of $20,000 in the portfolio over the next 30 years will end within in the range of $98325.99 and $1216345.31.\n"
     ]
    }
   ],
   "source": [
    "# Use the lower and upper `95%` confidence intervals to calculate the range of the possible outcomes of our $15,000 investments in stocks\n",
    "even_ci_lower = round(even_tbl[8]*20000,2)\n",
    "even_ci_upper = round(even_tbl[9]*20000,2)\n",
    "\n",
    "# Print results\n",
    "print(f\"There is a 95% chance that an initial investment of $20,000 in the portfolio\"\n",
    "      f\" over the next 30 years will end within in the range of\"\n",
    "      f\" ${even_ci_lower} and ${even_ci_upper}.\")"
   ]
  },
  {
   "cell_type": "code",
   "execution_count": 32,
   "id": "33252c56-b49a-408b-a00a-56a79183259f",
   "metadata": {},
   "outputs": [
    {
     "name": "stdout",
     "output_type": "stream",
     "text": [
      "There is a 95% chance that an initial investment of $30,000 in the portfolio over the next 30 years will end within in the range of $147488.99 and $1824517.97.\n"
     ]
    }
   ],
   "source": [
    "# Determine intervals with 50% increase on initial investment\n",
    "even_ci_lower = round(even_tbl[8]*30000,2)\n",
    "even_ci_upper = round(even_tbl[9]*30000,2)\n",
    "\n",
    "# Print results\n",
    "print(f\"There is a 95% chance that an initial investment of $30,000 in the portfolio\"\n",
    "      f\" over the next 30 years will end within in the range of\"\n",
    "      f\" ${even_ci_lower} and ${even_ci_upper}.\")"
   ]
  },
  {
   "cell_type": "code",
   "execution_count": null,
   "id": "584ef208-b583-4c25-a27b-10ed0bae8fec",
   "metadata": {},
   "outputs": [],
   "source": []
  }
 ],
 "metadata": {
  "kernelspec": {
   "display_name": "Python 3",
   "language": "python",
   "name": "python3"
  },
  "language_info": {
   "codemirror_mode": {
    "name": "ipython",
    "version": 3
   },
   "file_extension": ".py",
   "mimetype": "text/x-python",
   "name": "python",
   "nbconvert_exporter": "python",
   "pygments_lexer": "ipython3",
   "version": "3.8.5"
  }
 },
 "nbformat": 4,
 "nbformat_minor": 5
}
